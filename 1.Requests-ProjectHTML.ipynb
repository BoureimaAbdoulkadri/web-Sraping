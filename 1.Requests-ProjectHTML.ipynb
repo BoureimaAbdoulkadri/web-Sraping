{
 "cells": [
  {
   "cell_type": "markdown",
   "metadata": {
    "id": "oi9T2_uR5i3N"
   },
   "source": [
    "# 1. Web Scraping - Introduction\n",
    "\n",
    "<img src='https://xn--kvin-duranty-beb.fr/wp-content/uploads/2022/10/Web-Scraping-_-IPSSI-PRS.png'>\n",
    "\n",
    "\n",
    "Dans ce premier exercice nous allons utiliser le package `requests` afin de scaper le premier site internet mis en ligne par Tim Berners-Lee le concepteur du langage de programation html, et du protocole http.\n",
    "\n",
    "Cette exercice a pour but de revoir les base de la programation html, il est important bien co:prendre les notions de balise de tag et d'attribut afin de poursuivre ce cours dans les meilleurs conditions.\n",
    "\n",
    "\n",
    "## 1.1 Importez le package `requests`."
   ]
  },
  {
   "cell_type": "code",
   "execution_count": null,
   "metadata": {
    "executionInfo": {
     "elapsed": 841,
     "status": "ok",
     "timestamp": 1665925658050,
     "user": {
      "displayName": "Kévin Duranty",
      "userId": "15131849859703425204"
     },
     "user_tz": -120
    },
    "id": "c_z7EiJ3YXHx"
   },
   "outputs": [],
   "source": []
  },
  {
   "cell_type": "markdown",
   "metadata": {
    "id": "mFfvtGma5i3Q"
   },
   "source": [
    "## 1.2 Utilisez la méthode `get` du package `requests` afin d'obtenir la page [TheProject](http://info.cern.ch/hypertext/WWW/TheProject.html).\n",
    "\n",
    "Stoquez le résultat dans une variable `response` puis affihez le type de cette variable ainsi que le statut de la réponse en utilisant l'instance `status_code`."
   ]
  },
  {
   "cell_type": "code",
   "execution_count": null,
   "metadata": {
    "executionInfo": {
     "elapsed": 5,
     "status": "ok",
     "timestamp": 1665925658051,
     "user": {
      "displayName": "Kévin Duranty",
      "userId": "15131849859703425204"
     },
     "user_tz": -120
    },
    "id": "5Ca5aPEW5i3Q"
   },
   "outputs": [],
   "source": []
  },
  {
   "cell_type": "code",
   "execution_count": null,
   "metadata": {
    "executionInfo": {
     "elapsed": 2,
     "status": "ok",
     "timestamp": 1665925660150,
     "user": {
      "displayName": "Kévin Duranty",
      "userId": "15131849859703425204"
     },
     "user_tz": -120
    },
    "id": "sawMMS2-5i3Q"
   },
   "outputs": [],
   "source": []
  },
  {
   "cell_type": "markdown",
   "metadata": {
    "id": "zaEToY3R5i3R"
   },
   "source": [
    "## 1.3 Utilisez l'instance `text` de la variable `response` et notez vos observations.\n",
    "Sauvegardez le résultat '`The World Wide Web project.html`' puis ouvrez ce fichier avec votre navigateur, notez vos observations.\n",
    "\n"
   ]
  },
  {
   "cell_type": "code",
   "execution_count": null,
   "metadata": {
    "executionInfo": {
     "elapsed": 3,
     "status": "ok",
     "timestamp": 1665925666252,
     "user": {
      "displayName": "Kévin Duranty",
      "userId": "15131849859703425204"
     },
     "user_tz": -120
    },
    "id": "jAQD_xaj5i3R"
   },
   "outputs": [],
   "source": []
  },
  {
   "cell_type": "code",
   "execution_count": null,
   "metadata": {
    "executionInfo": {
     "elapsed": 421,
     "status": "ok",
     "timestamp": 1665925671588,
     "user": {
      "displayName": "Kévin Duranty",
      "userId": "15131849859703425204"
     },
     "user_tz": -120
    },
    "id": "NdJ1wbuj5i3R"
   },
   "outputs": [],
   "source": []
  },
  {
   "cell_type": "markdown",
   "metadata": {
    "id": "YPWby_UF5i3S"
   },
   "source": [
    "## 1.4 Quelle instance de la variable `response` contient l'adresse URL de la page observée ?"
   ]
  },
  {
   "cell_type": "code",
   "execution_count": null,
   "metadata": {
    "executionInfo": {
     "elapsed": 2,
     "status": "ok",
     "timestamp": 1665925673307,
     "user": {
      "displayName": "Kévin Duranty",
      "userId": "15131849859703425204"
     },
     "user_tz": -120
    },
    "id": "KsBkup6F5i3S"
   },
   "outputs": [],
   "source": []
  },
  {
   "cell_type": "markdown",
   "metadata": {
    "id": "3-njyNi-5i3S"
   },
   "source": [
    "## 1.5 Combien de titre 'h1' contient la page  `The World Wide Web project` ?\n",
    "! Atention aux majuscules !"
   ]
  },
  {
   "cell_type": "code",
   "execution_count": null,
   "metadata": {
    "executionInfo": {
     "elapsed": 4,
     "status": "ok",
     "timestamp": 1665925676935,
     "user": {
      "displayName": "Kévin Duranty",
      "userId": "15131849859703425204"
     },
     "user_tz": -120
    },
    "id": "FdMQR9VO5i3S"
   },
   "outputs": [],
   "source": []
  },
  {
   "cell_type": "markdown",
   "metadata": {
    "id": "QrMCcrzB5i3T"
   },
   "source": [
    "## 1.6 Combien de lien possède la page `The World Wide Web project` ?"
   ]
  },
  {
   "cell_type": "code",
   "execution_count": null,
   "metadata": {
    "executionInfo": {
     "elapsed": 2,
     "status": "ok",
     "timestamp": 1665925679254,
     "user": {
      "displayName": "Kévin Duranty",
      "userId": "15131849859703425204"
     },
     "user_tz": -120
    },
    "id": "D-OceEPN5i3T"
   },
   "outputs": [],
   "source": []
  },
  {
   "cell_type": "markdown",
   "metadata": {
    "id": "4u0n28wV5i3T"
   },
   "source": [
    "## 1.7 Récupérez tous les liens de la page à l'aide d'une fonction.\n",
    "\n",
    "Créez une fonction `get_links` qui prend en argument une variable `response` (de type requests.models.Response) et qui retourne une liste contenant tous les liens présents sur la page."
   ]
  },
  {
   "cell_type": "code",
   "execution_count": null,
   "metadata": {
    "executionInfo": {
     "elapsed": 3,
     "status": "ok",
     "timestamp": 1665925683344,
     "user": {
      "displayName": "Kévin Duranty",
      "userId": "15131849859703425204"
     },
     "user_tz": -120
    },
    "id": "QHzy3hV05i3T"
   },
   "outputs": [],
   "source": []
  },
  {
   "cell_type": "code",
   "execution_count": null,
   "metadata": {
    "executionInfo": {
     "elapsed": 2,
     "status": "ok",
     "timestamp": 1665925686225,
     "user": {
      "displayName": "Kévin Duranty",
      "userId": "15131849859703425204"
     },
     "user_tz": -120
    },
    "id": "hVRsZMWo5i3T"
   },
   "outputs": [],
   "source": []
  },
  {
   "cell_type": "markdown",
   "metadata": {
    "id": "HeUd4lJm5i3T"
   },
   "source": [
    "## 1.8 Vérifiez que les pages de cette liste existent."
   ]
  },
  {
   "cell_type": "code",
   "execution_count": null,
   "metadata": {
    "executionInfo": {
     "elapsed": 3,
     "status": "ok",
     "timestamp": 1665925691299,
     "user": {
      "displayName": "Kévin Duranty",
      "userId": "15131849859703425204"
     },
     "user_tz": -120
    },
    "id": "NK5e_joN5i3T"
   },
   "outputs": [],
   "source": []
  },
  {
   "cell_type": "code",
   "execution_count": null,
   "metadata": {
    "executionInfo": {
     "elapsed": 1,
     "status": "ok",
     "timestamp": 1665925693690,
     "user": {
      "displayName": "Kévin Duranty",
      "userId": "15131849859703425204"
     },
     "user_tz": -120
    },
    "id": "_jR0OnSp5i3U"
   },
   "outputs": [],
   "source": []
  },
  {
   "cell_type": "markdown",
   "metadata": {
    "id": "aWAoXHPe5i3U"
   },
   "source": [
    "## 1.9 Récupérez les liens présents sur la deuxième pagede cette liste"
   ]
  },
  {
   "cell_type": "code",
   "execution_count": null,
   "metadata": {
    "executionInfo": {
     "elapsed": 1,
     "status": "ok",
     "timestamp": 1665925701534,
     "user": {
      "displayName": "Kévin Duranty",
      "userId": "15131849859703425204"
     },
     "user_tz": -120
    },
    "id": "Q5ibct4j5i3U"
   },
   "outputs": [],
   "source": []
  },
  {
   "cell_type": "code",
   "execution_count": null,
   "metadata": {
    "executionInfo": {
     "elapsed": 3,
     "status": "ok",
     "timestamp": 1665925698360,
     "user": {
      "displayName": "Kévin Duranty",
      "userId": "15131849859703425204"
     },
     "user_tz": -120
    },
    "id": "nMGLI2Iw5i3U"
   },
   "outputs": [],
   "source": []
  },
  {
   "cell_type": "code",
   "execution_count": null,
   "metadata": {
    "executionInfo": {
     "elapsed": 2,
     "status": "ok",
     "timestamp": 1665925704309,
     "user": {
      "displayName": "Kévin Duranty",
      "userId": "15131849859703425204"
     },
     "user_tz": -120
    },
    "id": "7mPaqd0-5i3U"
   },
   "outputs": [],
   "source": []
  },
  {
   "cell_type": "code",
   "execution_count": null,
   "metadata": {
    "executionInfo": {
     "elapsed": 3,
     "status": "ok",
     "timestamp": 1665925708593,
     "user": {
      "displayName": "Kévin Duranty",
      "userId": "15131849859703425204"
     },
     "user_tz": -120
    },
    "id": "0i5Qh8705i3U"
   },
   "outputs": [],
   "source": []
  },
  {
   "cell_type": "code",
   "execution_count": null,
   "metadata": {
    "executionInfo": {
     "elapsed": 3,
     "status": "ok",
     "timestamp": 1665925711136,
     "user": {
      "displayName": "Kévin Duranty",
      "userId": "15131849859703425204"
     },
     "user_tz": -120
    },
    "id": "mfPWnoeA5i3U"
   },
   "outputs": [],
   "source": []
  }
 ],
 "metadata": {
  "colab": {
   "collapsed_sections": [],
   "provenance": []
  },
  "kernelspec": {
   "display_name": "Python 3 (ipykernel)",
   "language": "python",
   "name": "python3"
  },
  "language_info": {
   "codemirror_mode": {
    "name": "ipython",
    "version": 3
   },
   "file_extension": ".py",
   "mimetype": "text/x-python",
   "name": "python",
   "nbconvert_exporter": "python",
   "pygments_lexer": "ipython3",
   "version": "3.7.6"
  }
 },
 "nbformat": 4,
 "nbformat_minor": 1
}
