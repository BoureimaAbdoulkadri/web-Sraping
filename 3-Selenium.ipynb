{
 "cells": [
  {
   "cell_type": "markdown",
   "metadata": {},
   "source": [
    "# [Selenium](https://selenium-python.readthedocs.io/)\n",
    "* [doc offic](https://www.selenium.dev/), [Guide de survie 1](http://akul.me/blog/2016/selenium-cheatsheet/), [Guide de survie 2](http://allselenium.info/python-selenium-commands-cheat-sheet-frequently-used/)\n",
    "## Installation\n",
    "* Télécharger [webdriver](https://chromedriver.chromium.org/downloads), Rangez-le dans un dossier et Rajoutez le path de l'executable `chromedriver.exe` dans les variables d'environnement système (puis redémarrer).\n",
    "### Tuto : \n",
    "* Comment identifier les diff élèments [locator in selenium](https://www.lambdatest.com/blog/locators-in-selenium-webdriver-with-examples/), Comment attendre qu'un élément web soit present, visible, cliquable [article](http://allselenium.info/wait-for-elements-python-selenium-webdriver/), [stackoverflow](https://stackoverflow.com/questions/59130200/selenium-wait-until-element-is-present-visible-and-interactable)   \n",
    "* Scraper des pages dynamiques à l'aide de selenium et BeautifulSoup à la fois : tuto [medium](https://medium.com/ymedialabs-innovation/web-scraping-using-beautiful-soup-and-selenium-for-dynamic-page-2f8ad15efe25) ou [stackoverflow](https://stackoverflow.com/questions/59409418/how-to-rotate-selenium-webrowser-ip-address)\n",
    "* <https://stackoverflow.com/questions/54862426/python-selenium-get-href-value/54862902>\n"
   ]
  },
  {
   "cell_type": "code",
   "execution_count": 2,
   "metadata": {
    "scrolled": true,
    "ExecuteTime": {
     "start_time": "2023-04-19T09:40:04.767556Z",
     "end_time": "2023-04-19T09:40:08.130433Z"
    }
   },
   "outputs": [
    {
     "name": "stdout",
     "output_type": "stream",
     "text": [
      "Collecting selenium\r\n",
      "  Downloading selenium-4.8.3-py3-none-any.whl (6.5 MB)\r\n",
      "\u001B[2K     \u001B[90m━━━━━━━━━━━━━━━━━━━━━━━━━━━━━━━━━━━━━━━━\u001B[0m \u001B[32m6.5/6.5 MB\u001B[0m \u001B[31m32.7 MB/s\u001B[0m eta \u001B[36m0:00:00\u001B[0m00:01\u001B[0m00:01\u001B[0m\r\n",
      "\u001B[?25hRequirement already satisfied: urllib3[socks]~=1.26 in /opt/anaconda3/lib/python3.9/site-packages (from selenium) (1.26.11)\r\n",
      "Requirement already satisfied: certifi>=2021.10.8 in /opt/anaconda3/lib/python3.9/site-packages (from selenium) (2022.9.24)\r\n",
      "Collecting trio-websocket~=0.9\r\n",
      "  Downloading trio_websocket-0.10.2-py3-none-any.whl (17 kB)\r\n",
      "Collecting trio~=0.17\r\n",
      "  Downloading trio-0.22.0-py3-none-any.whl (384 kB)\r\n",
      "\u001B[2K     \u001B[90m━━━━━━━━━━━━━━━━━━━━━━━━━━━━━━━━━━━━━━\u001B[0m \u001B[32m384.9/384.9 kB\u001B[0m \u001B[31m29.7 MB/s\u001B[0m eta \u001B[36m0:00:00\u001B[0m\r\n",
      "\u001B[?25hCollecting async-generator>=1.9\r\n",
      "  Downloading async_generator-1.10-py3-none-any.whl (18 kB)\r\n",
      "Collecting exceptiongroup>=1.0.0rc9\r\n",
      "  Downloading exceptiongroup-1.1.1-py3-none-any.whl (14 kB)\r\n",
      "Requirement already satisfied: sortedcontainers in /opt/anaconda3/lib/python3.9/site-packages (from trio~=0.17->selenium) (2.4.0)\r\n",
      "Requirement already satisfied: idna in /opt/anaconda3/lib/python3.9/site-packages (from trio~=0.17->selenium) (3.3)\r\n",
      "Requirement already satisfied: sniffio in /opt/anaconda3/lib/python3.9/site-packages (from trio~=0.17->selenium) (1.2.0)\r\n",
      "Requirement already satisfied: attrs>=19.2.0 in /opt/anaconda3/lib/python3.9/site-packages (from trio~=0.17->selenium) (21.4.0)\r\n",
      "Collecting outcome\r\n",
      "  Downloading outcome-1.2.0-py2.py3-none-any.whl (9.7 kB)\r\n",
      "Collecting wsproto>=0.14\r\n",
      "  Downloading wsproto-1.2.0-py3-none-any.whl (24 kB)\r\n",
      "Requirement already satisfied: PySocks!=1.5.7,<2.0,>=1.5.6 in /opt/anaconda3/lib/python3.9/site-packages (from urllib3[socks]~=1.26->selenium) (1.7.1)\r\n",
      "Collecting h11<1,>=0.9.0\r\n",
      "  Downloading h11-0.14.0-py3-none-any.whl (58 kB)\r\n",
      "\u001B[2K     \u001B[90m━━━━━━━━━━━━━━━━━━━━━━━━━━━━━━━━━━━━━━━━\u001B[0m \u001B[32m58.3/58.3 kB\u001B[0m \u001B[31m17.1 MB/s\u001B[0m eta \u001B[36m0:00:00\u001B[0m\r\n",
      "\u001B[?25hInstalling collected packages: outcome, h11, exceptiongroup, async-generator, wsproto, trio, trio-websocket, selenium\r\n",
      "Successfully installed async-generator-1.10 exceptiongroup-1.1.1 h11-0.14.0 outcome-1.2.0 selenium-4.8.3 trio-0.22.0 trio-websocket-0.10.2 wsproto-1.2.0\r\n"
     ]
    }
   ],
   "source": [
    "!pip install selenium"
   ]
  },
  {
   "cell_type": "code",
   "execution_count": 3,
   "metadata": {
    "collapsed": true,
    "ExecuteTime": {
     "start_time": "2023-04-19T09:40:14.727887Z",
     "end_time": "2023-04-19T09:40:16.607518Z"
    }
   },
   "outputs": [
    {
     "name": "stdout",
     "output_type": "stream",
     "text": [
      "Collecting pytest-html\r\n",
      "  Downloading pytest_html-3.2.0-py3-none-any.whl (16 kB)\r\n",
      "Requirement already satisfied: py>=1.8.2 in /opt/anaconda3/lib/python3.9/site-packages (from pytest-html) (1.11.0)\r\n",
      "Requirement already satisfied: pytest!=6.0.0,>=5.0 in /opt/anaconda3/lib/python3.9/site-packages (from pytest-html) (7.1.2)\r\n",
      "Collecting pytest-metadata\r\n",
      "  Downloading pytest_metadata-2.0.4-py3-none-any.whl (9.9 kB)\r\n",
      "Requirement already satisfied: attrs>=19.2.0 in /opt/anaconda3/lib/python3.9/site-packages (from pytest!=6.0.0,>=5.0->pytest-html) (21.4.0)\r\n",
      "Requirement already satisfied: iniconfig in /opt/anaconda3/lib/python3.9/site-packages (from pytest!=6.0.0,>=5.0->pytest-html) (1.1.1)\r\n",
      "Requirement already satisfied: packaging in /opt/anaconda3/lib/python3.9/site-packages (from pytest!=6.0.0,>=5.0->pytest-html) (21.3)\r\n",
      "Requirement already satisfied: pluggy<2.0,>=0.12 in /opt/anaconda3/lib/python3.9/site-packages (from pytest!=6.0.0,>=5.0->pytest-html) (1.0.0)\r\n",
      "Requirement already satisfied: tomli>=1.0.0 in /opt/anaconda3/lib/python3.9/site-packages (from pytest!=6.0.0,>=5.0->pytest-html) (2.0.1)\r\n",
      "Requirement already satisfied: pyparsing!=3.0.5,>=2.0.2 in /opt/anaconda3/lib/python3.9/site-packages (from packaging->pytest!=6.0.0,>=5.0->pytest-html) (3.0.9)\r\n",
      "Installing collected packages: pytest-metadata, pytest-html\r\n",
      "Successfully installed pytest-html-3.2.0 pytest-metadata-2.0.4\r\n"
     ]
    }
   ],
   "source": [
    "# https://pytest-html.readthedocs.io/en/latest/index.html\n",
    "!pip install pytest-html"
   ]
  },
  {
   "cell_type": "code",
   "execution_count": 2,
   "metadata": {
    "collapsed": true
   },
   "outputs": [
    {
     "name": "stdout",
     "output_type": "stream",
     "text": [
      "Collecting pytest-xdist\n",
      "  Downloading pytest_xdist-2.4.0-py3-none-any.whl (38 kB)\n",
      "Requirement already satisfied: pytest>=6.0.0 in c:\\users\\bejao\\miniconda3\\envs\\spark2.4py3.5\\lib\\site-packages (from pytest-xdist) (6.2.4)\n",
      "Collecting execnet>=1.1\n",
      "  Downloading execnet-1.9.0-py2.py3-none-any.whl (39 kB)\n",
      "Requirement already satisfied: attrs>=19.2.0 in c:\\users\\bejao\\miniconda3\\envs\\spark2.4py3.5\\lib\\site-packages (from pytest>=6.0.0->pytest-xdist) (20.3.0)\n",
      "Requirement already satisfied: colorama in c:\\users\\bejao\\miniconda3\\envs\\spark2.4py3.5\\lib\\site-packages (from pytest>=6.0.0->pytest-xdist) (0.4.4)\n",
      "Requirement already satisfied: py>=1.8.2 in c:\\users\\bejao\\miniconda3\\envs\\spark2.4py3.5\\lib\\site-packages (from pytest>=6.0.0->pytest-xdist) (1.10.0)\n",
      "Requirement already satisfied: importlib-metadata>=0.12 in c:\\users\\bejao\\miniconda3\\envs\\spark2.4py3.5\\lib\\site-packages (from pytest>=6.0.0->pytest-xdist) (4.8.1)\n",
      "Requirement already satisfied: toml in c:\\users\\bejao\\miniconda3\\envs\\spark2.4py3.5\\lib\\site-packages (from pytest>=6.0.0->pytest-xdist) (0.10.2)\n",
      "Requirement already satisfied: pluggy<1.0.0a1,>=0.12 in c:\\users\\bejao\\miniconda3\\envs\\spark2.4py3.5\\lib\\site-packages (from pytest>=6.0.0->pytest-xdist) (0.13.1)\n",
      "Requirement already satisfied: packaging in c:\\users\\bejao\\miniconda3\\envs\\spark2.4py3.5\\lib\\site-packages (from pytest>=6.0.0->pytest-xdist) (20.9)\n",
      "Requirement already satisfied: iniconfig in c:\\users\\bejao\\miniconda3\\envs\\spark2.4py3.5\\lib\\site-packages (from pytest>=6.0.0->pytest-xdist) (1.1.1)\n",
      "Requirement already satisfied: atomicwrites>=1.0 in c:\\users\\bejao\\miniconda3\\envs\\spark2.4py3.5\\lib\\site-packages (from pytest>=6.0.0->pytest-xdist) (1.4.0)\n",
      "Requirement already satisfied: typing-extensions>=3.6.4 in c:\\users\\bejao\\miniconda3\\envs\\spark2.4py3.5\\lib\\site-packages (from importlib-metadata>=0.12->pytest>=6.0.0->pytest-xdist) (3.7.4.3)\n",
      "Requirement already satisfied: zipp>=0.5 in c:\\users\\bejao\\miniconda3\\envs\\spark2.4py3.5\\lib\\site-packages (from importlib-metadata>=0.12->pytest>=6.0.0->pytest-xdist) (3.4.0)\n",
      "Requirement already satisfied: pyparsing>=2.0.2 in c:\\users\\bejao\\miniconda3\\envs\\spark2.4py3.5\\lib\\site-packages (from packaging->pytest>=6.0.0->pytest-xdist) (2.4.7)\n",
      "Collecting pytest-forked\n",
      "  Downloading pytest_forked-1.3.0-py2.py3-none-any.whl (4.7 kB)\n",
      "Installing collected packages: pytest-forked, execnet, pytest-xdist\n",
      "Successfully installed execnet-1.9.0 pytest-forked-1.3.0 pytest-xdist-2.4.0\n"
     ]
    }
   ],
   "source": [
    "# https://github.com/pytest-dev/pytest-xdist\n",
    "!pip install pytest-xdist"
   ]
  },
  {
   "cell_type": "code",
   "execution_count": 4,
   "metadata": {
    "collapsed": true,
    "ExecuteTime": {
     "start_time": "2023-04-19T09:40:27.901158Z",
     "end_time": "2023-04-19T09:40:30.374485Z"
    }
   },
   "outputs": [
    {
     "name": "stdout",
     "output_type": "stream",
     "text": [
      "Collecting pytest-cov\r\n",
      "  Downloading pytest_cov-4.0.0-py3-none-any.whl (21 kB)\r\n",
      "Collecting coverage[toml]>=5.2.1\r\n",
      "  Downloading coverage-7.2.3-cp39-cp39-macosx_10_9_x86_64.whl (199 kB)\r\n",
      "\u001B[2K     \u001B[90m━━━━━━━━━━━━━━━━━━━━━━━━━━━━━━━━━━━━━━\u001B[0m \u001B[32m200.0/200.0 kB\u001B[0m \u001B[31m11.3 MB/s\u001B[0m eta \u001B[36m0:00:00\u001B[0m\r\n",
      "\u001B[?25hRequirement already satisfied: pytest>=4.6 in /opt/anaconda3/lib/python3.9/site-packages (from pytest-cov) (7.1.2)\r\n",
      "Requirement already satisfied: tomli in /opt/anaconda3/lib/python3.9/site-packages (from coverage[toml]>=5.2.1->pytest-cov) (2.0.1)\r\n",
      "Requirement already satisfied: attrs>=19.2.0 in /opt/anaconda3/lib/python3.9/site-packages (from pytest>=4.6->pytest-cov) (21.4.0)\r\n",
      "Requirement already satisfied: iniconfig in /opt/anaconda3/lib/python3.9/site-packages (from pytest>=4.6->pytest-cov) (1.1.1)\r\n",
      "Requirement already satisfied: packaging in /opt/anaconda3/lib/python3.9/site-packages (from pytest>=4.6->pytest-cov) (21.3)\r\n",
      "Requirement already satisfied: pluggy<2.0,>=0.12 in /opt/anaconda3/lib/python3.9/site-packages (from pytest>=4.6->pytest-cov) (1.0.0)\r\n",
      "Requirement already satisfied: py>=1.8.2 in /opt/anaconda3/lib/python3.9/site-packages (from pytest>=4.6->pytest-cov) (1.11.0)\r\n",
      "Requirement already satisfied: pyparsing!=3.0.5,>=2.0.2 in /opt/anaconda3/lib/python3.9/site-packages (from packaging->pytest>=4.6->pytest-cov) (3.0.9)\r\n",
      "Installing collected packages: coverage, pytest-cov\r\n",
      "Successfully installed coverage-7.2.3 pytest-cov-4.0.0\r\n"
     ]
    }
   ],
   "source": [
    "!pip install pytest-cov"
   ]
  },
  {
   "cell_type": "code",
   "execution_count": 2,
   "metadata": {
    "collapsed": true
   },
   "outputs": [
    {
     "name": "stdout",
     "output_type": "stream",
     "text": [
      "Collecting locust\n",
      "  Using cached locust-2.5.0-py3-none-any.whl (795 kB)\n",
      "Requirement already satisfied: Werkzeug>=2.0.0 in c:\\users\\bejao\\miniconda3\\envs\\spark2.4py3.5\\lib\\site-packages (from locust) (2.0.2)\n",
      "Requirement already satisfied: gevent>=20.9.0 in c:\\users\\bejao\\miniconda3\\envs\\spark2.4py3.5\\lib\\site-packages (from locust) (21.8.0)\n",
      "Requirement already satisfied: typing-extensions>=3.7.4.3 in c:\\users\\bejao\\miniconda3\\envs\\spark2.4py3.5\\lib\\site-packages (from locust) (3.7.4.3)\n",
      "Requirement already satisfied: pywin32 in c:\\users\\bejao\\miniconda3\\envs\\spark2.4py3.5\\lib\\site-packages (from locust) (300)\n",
      "Requirement already satisfied: requests>=2.9.1 in c:\\users\\bejao\\miniconda3\\envs\\spark2.4py3.5\\lib\\site-packages (from locust) (2.25.1)\n",
      "Requirement already satisfied: roundrobin>=0.0.2 in c:\\users\\bejao\\miniconda3\\envs\\spark2.4py3.5\\lib\\site-packages (from locust) (0.0.2)\n",
      "Requirement already satisfied: flask>=2.0.0 in c:\\users\\bejao\\miniconda3\\envs\\spark2.4py3.5\\lib\\site-packages (from locust) (2.0.2)\n",
      "Requirement already satisfied: pyzmq>=22.2.1 in c:\\users\\bejao\\miniconda3\\envs\\spark2.4py3.5\\lib\\site-packages (from locust) (22.3.0)\n",
      "Requirement already satisfied: Flask-Cors>=3.0.10 in c:\\users\\bejao\\miniconda3\\envs\\spark2.4py3.5\\lib\\site-packages (from locust) (3.0.10)\n",
      "Requirement already satisfied: psutil>=5.6.7 in c:\\users\\bejao\\miniconda3\\envs\\spark2.4py3.5\\lib\\site-packages (from locust) (5.8.0)\n",
      "Requirement already satisfied: msgpack>=0.6.2 in c:\\users\\bejao\\miniconda3\\envs\\spark2.4py3.5\\lib\\site-packages (from locust) (1.0.2)\n",
      "Collecting ConfigArgParse>=1.0\n",
      "  Using cached ConfigArgParse-1.5.3-py3-none-any.whl (20 kB)\n",
      "Requirement already satisfied: Jinja2>=3.0 in c:\\users\\bejao\\miniconda3\\envs\\spark2.4py3.5\\lib\\site-packages (from flask>=2.0.0->locust) (3.0.3)\n",
      "Requirement already satisfied: click>=7.1.2 in c:\\users\\bejao\\miniconda3\\envs\\spark2.4py3.5\\lib\\site-packages (from flask>=2.0.0->locust) (7.1.2)\n",
      "Requirement already satisfied: itsdangerous>=2.0 in c:\\users\\bejao\\miniconda3\\envs\\spark2.4py3.5\\lib\\site-packages (from flask>=2.0.0->locust) (2.0.1)\n",
      "Collecting Flask-BasicAuth>=0.2.0\n",
      "  Using cached Flask_BasicAuth-0.2.0-py3-none-any.whl\n",
      "Requirement already satisfied: Six in c:\\users\\bejao\\miniconda3\\envs\\spark2.4py3.5\\lib\\site-packages (from Flask-Cors>=3.0.10->locust) (1.15.0)\n",
      "Requirement already satisfied: cffi>=1.12.2 in c:\\users\\bejao\\miniconda3\\envs\\spark2.4py3.5\\lib\\site-packages (from gevent>=20.9.0->locust) (1.14.4)\n",
      "Requirement already satisfied: greenlet<2.0,>=1.1.0 in c:\\users\\bejao\\miniconda3\\envs\\spark2.4py3.5\\lib\\site-packages (from gevent>=20.9.0->locust) (1.1.0)\n",
      "Requirement already satisfied: zope.interface in c:\\users\\bejao\\miniconda3\\envs\\spark2.4py3.5\\lib\\site-packages (from gevent>=20.9.0->locust) (5.4.0)\n",
      "Requirement already satisfied: zope.event in c:\\users\\bejao\\miniconda3\\envs\\spark2.4py3.5\\lib\\site-packages (from gevent>=20.9.0->locust) (4.5.0)\n",
      "Requirement already satisfied: setuptools in c:\\users\\bejao\\miniconda3\\envs\\spark2.4py3.5\\lib\\site-packages (from gevent>=20.9.0->locust) (51.1.0)\n",
      "Requirement already satisfied: pycparser in c:\\users\\bejao\\miniconda3\\envs\\spark2.4py3.5\\lib\\site-packages (from cffi>=1.12.2->gevent>=20.9.0->locust) (2.20)\n",
      "Collecting geventhttpclient>=1.5.1\n",
      "  Using cached geventhttpclient-1.5.3-cp36-cp36m-win_amd64.whl (36 kB)\n",
      "Requirement already satisfied: brotli in c:\\users\\bejao\\miniconda3\\envs\\spark2.4py3.5\\lib\\site-packages (from geventhttpclient>=1.5.1->locust) (1.0.9)\n",
      "Requirement already satisfied: certifi in c:\\users\\bejao\\miniconda3\\envs\\spark2.4py3.5\\lib\\site-packages (from geventhttpclient>=1.5.1->locust) (2021.5.30)\n",
      "Requirement already satisfied: MarkupSafe>=2.0 in c:\\users\\bejao\\miniconda3\\envs\\spark2.4py3.5\\lib\\site-packages (from Jinja2>=3.0->flask>=2.0.0->locust) (2.0.1)\n",
      "Requirement already satisfied: urllib3<1.27,>=1.21.1 in c:\\users\\bejao\\miniconda3\\envs\\spark2.4py3.5\\lib\\site-packages (from requests>=2.9.1->locust) (1.26.7)\n",
      "Requirement already satisfied: idna<3,>=2.5 in c:\\users\\bejao\\miniconda3\\envs\\spark2.4py3.5\\lib\\site-packages (from requests>=2.9.1->locust) (2.10)\n",
      "Requirement already satisfied: chardet<5,>=3.0.2 in c:\\users\\bejao\\miniconda3\\envs\\spark2.4py3.5\\lib\\site-packages (from requests>=2.9.1->locust) (3.0.4)\n",
      "Requirement already satisfied: dataclasses in c:\\users\\bejao\\miniconda3\\envs\\spark2.4py3.5\\lib\\site-packages (from Werkzeug>=2.0.0->locust) (0.8)\n",
      "Installing collected packages: geventhttpclient, Flask-BasicAuth, ConfigArgParse, locust\n",
      "Successfully installed ConfigArgParse-1.5.3 Flask-BasicAuth-0.2.0 geventhttpclient-1.5.3 locust-2.5.0\n"
     ]
    },
    {
     "name": "stderr",
     "output_type": "stream",
     "text": [
      "  WARNING: The script locust.exe is installed in 'C:\\Users\\bejao\\AppData\\Roaming\\Python\\Python36\\Scripts' which is not on PATH.\n",
      "  Consider adding this directory to PATH or, if you prefer to suppress this warning, use --no-warn-script-location.\n"
     ]
    }
   ],
   "source": [
    "# locust : framework de test de performance facile à utiliser et open source\n",
    "# https://locust.io\n",
    "# https://docs.locust.io/en/stable/index.html\n",
    "# Après l'install du pkg, pensez à rajouter le path aux var d'env (C:\\Users\\bejao\\AppData\\Roaming\\Python\\Python36\\Scripts)\n",
    "!pip install --user locust"
   ]
  },
  {
   "cell_type": "markdown",
   "metadata": {},
   "source": [
    " ## Charger les librairies"
   ]
  },
  {
   "cell_type": "code",
   "execution_count": 11,
   "metadata": {
    "ExecuteTime": {
     "start_time": "2023-04-19T09:59:43.304550Z",
     "end_time": "2023-04-19T09:59:43.315190Z"
    }
   },
   "outputs": [],
   "source": [
    "# Le module selenium.webdriver fournit toutes les implémentations de WebDriver : Firefox, Chrome, Edge, ... (sont actuellement prises en charge). \n",
    "from selenium import webdriver\n",
    "\n",
    "# La classe Keys fournit des touches dans le clavier telles que RETURN, F1, ALT, etc.\n",
    "from selenium.webdriver.common.keys import Keys\n",
    "# La classe ActionsChains permet la combinaison de touches, par ex 4 fois la touche Tab \n",
    "from selenium.webdriver.common.action_chains import ActionChains\n",
    "\n",
    "from selenium.webdriver.common.by import By\n",
    "\n",
    "import time\n",
    "import random\n",
    "\n",
    "# import pytest"
   ]
  },
  {
   "cell_type": "code",
   "execution_count": 71,
   "outputs": [],
   "source": [
    "# cas de test Firefox\n",
    "from selenium import webdriver\n",
    "driver = webdriver.Firefox()\n",
    "driver.get(\"https://www.asos.com/fr/\")\n",
    "home = '//*[@id=\"men-floor\"]'\n",
    "#xpath = \"/html/body/div[4]/div/x-wrapper-header/div/div/header/div[1]/div/div/div/div[1]/div/div/div/div[2]/div[3]/form/div/input\"\n",
    "HOME = driver.find_element(By.XPATH,home)\n",
    "HOME.click()\n",
    "#barre.send_keys(\"nike\")\n",
    "#barre.submit()\n",
    "\n",
    "#time.sleep(3)\n",
    "chaussures = '/html/body/div[2]/div/div[2]/header/div[3]/div/div[2]/div[2]/nav/div/div/button[4]'\n",
    "basckets = '/html/body/div[2]/div/div[2]/header/div[3]/div/div[2]/div[2]/nav/div/div/div[4]/div/div[2]/div/div[1]/ul/li[4]/a'\n",
    "selectChaussures = driver.find_element(By.XPATH,chaussures).click()\n",
    "selectBascket= driver.find_element(By.XPATH,basckets).click()\n",
    "time.sleep(3)\n",
    "article = 'productLink_c18pi'\n",
    "button_page = driver.find_element(By.CLASS_NAME, 'loadButton_wWQ3F')\n",
    "time.sleep(3)\n",
    "while True:\n",
    "    try:\n",
    "        button_page.click()\n",
    "    except:\n",
    "        break\n",
    "time.sleep(4)\n",
    "articles = driver.find_elements(By.CLASS_NAME,article)\n",
    "href = [a.get_attribute('href') for a in articles]\n",
    "\n",
    "articlesData = []\n",
    "articleName = 'jcdpl'\n",
    "Name= driver.find_element(By.CLASS_NAME,articleName).text.strip()\n",
    "\n",
    "\n",
    "articlePrice = 'a0j7k'\n",
    "for link in href:\n",
    "    driver.get(link)\n",
    "    Name= driver.find_element(By.CLASS_NAME,articleName).text.strip()\n",
    "    Price = driver.find_element(By.CLASS_NAME,articlePrice).text.strip()\n",
    "    articlesData.append({\n",
    "        'nom' : Name,\n",
    "        'Prix' : Price\n",
    "    })"
   ],
   "metadata": {
    "collapsed": false,
    "ExecuteTime": {
     "start_time": "2023-04-19T13:00:45.971650Z",
     "end_time": "2023-04-19T13:01:01.450812Z"
    }
   }
  },
  {
   "cell_type": "code",
   "execution_count": 68,
   "outputs": [
    {
     "data": {
      "text/plain": "                                                  nom  \\\n0          New Balance -  530 - Baskets - Blanc cassé   \n1   adidas Originals - Hyperturf NS - Baskets - Ma...   \n2   adidas Originals - ADI2000 - Baskets - Blanc e...   \n3                    New Balance - Baskets 327 - Noir   \n4                  Bershka - Baskets à lacets - Blanc   \n..                                                ...   \n67     New Balance - 530 - Baskets - Crème et argenté   \n68  Converse - Chuck Taylor All Star - Pointure la...   \n69             Puma - CA Pro - Baskets - Triple blanc   \n70     Puma - Slipstream - Lux - Baskets - Blanc puma   \n71            Puma - XXI - Baskets classiques - Blanc   \n\n                                                 Prix  \n0                                  115,00 €\\n115,00 €  \n1                                  150,00 €\\n150,00 €  \n2                                  120,00 €\\n120,00 €  \n3                                  130,00 €\\n130,00 €  \n4                                    19,99 €\\n19,99 €  \n..                                                ...  \n67                                 110,00 €\\n110,00 €  \n68                                   75,00 €\\n75,00 €  \n69                                   90,00 €\\n90,00 €  \n70  Maintenant 84,00 €. Meilleur prix sur 30 jours...  \n71                                   78,00 €\\n78,00 €  \n\n[72 rows x 2 columns]",
      "text/html": "<div>\n<style scoped>\n    .dataframe tbody tr th:only-of-type {\n        vertical-align: middle;\n    }\n\n    .dataframe tbody tr th {\n        vertical-align: top;\n    }\n\n    .dataframe thead th {\n        text-align: right;\n    }\n</style>\n<table border=\"1\" class=\"dataframe\">\n  <thead>\n    <tr style=\"text-align: right;\">\n      <th></th>\n      <th>nom</th>\n      <th>Prix</th>\n    </tr>\n  </thead>\n  <tbody>\n    <tr>\n      <th>0</th>\n      <td>New Balance -  530 - Baskets - Blanc cassé</td>\n      <td>115,00 €\\n115,00 €</td>\n    </tr>\n    <tr>\n      <th>1</th>\n      <td>adidas Originals - Hyperturf NS - Baskets - Ma...</td>\n      <td>150,00 €\\n150,00 €</td>\n    </tr>\n    <tr>\n      <th>2</th>\n      <td>adidas Originals - ADI2000 - Baskets - Blanc e...</td>\n      <td>120,00 €\\n120,00 €</td>\n    </tr>\n    <tr>\n      <th>3</th>\n      <td>New Balance - Baskets 327 - Noir</td>\n      <td>130,00 €\\n130,00 €</td>\n    </tr>\n    <tr>\n      <th>4</th>\n      <td>Bershka - Baskets à lacets - Blanc</td>\n      <td>19,99 €\\n19,99 €</td>\n    </tr>\n    <tr>\n      <th>...</th>\n      <td>...</td>\n      <td>...</td>\n    </tr>\n    <tr>\n      <th>67</th>\n      <td>New Balance - 530 - Baskets - Crème et argenté</td>\n      <td>110,00 €\\n110,00 €</td>\n    </tr>\n    <tr>\n      <th>68</th>\n      <td>Converse - Chuck Taylor All Star - Pointure la...</td>\n      <td>75,00 €\\n75,00 €</td>\n    </tr>\n    <tr>\n      <th>69</th>\n      <td>Puma - CA Pro - Baskets - Triple blanc</td>\n      <td>90,00 €\\n90,00 €</td>\n    </tr>\n    <tr>\n      <th>70</th>\n      <td>Puma - Slipstream - Lux - Baskets - Blanc puma</td>\n      <td>Maintenant 84,00 €. Meilleur prix sur 30 jours...</td>\n    </tr>\n    <tr>\n      <th>71</th>\n      <td>Puma - XXI - Baskets classiques - Blanc</td>\n      <td>78,00 €\\n78,00 €</td>\n    </tr>\n  </tbody>\n</table>\n<p>72 rows × 2 columns</p>\n</div>"
     },
     "execution_count": 68,
     "metadata": {},
     "output_type": "execute_result"
    }
   ],
   "source": [
    "import pandas as pd\n",
    "df = pd.DataFrame(articlesData)\n",
    "df"
   ],
   "metadata": {
    "collapsed": false,
    "ExecuteTime": {
     "start_time": "2023-04-19T12:57:27.086966Z",
     "end_time": "2023-04-19T12:57:27.099108Z"
    }
   }
  },
  {
   "cell_type": "markdown",
   "metadata": {},
   "source": [
    "# Aujourd'hui, nous allons scrapper et tester plusieurs sites avec Selenium\n",
    "\n",
    "* Selenium est un outil crée initialement pour automatiser des tests sur des sites web. Il est donc bien utile lorsque des informations sont accesibles en cliquant sur des liens. Un boutton, par exemple, est un élément sur lequel il trés diffcile d'obtenir le lien. BeautifullSoup devient alors limité. Dans ce cas, utilisez Selenium !"
   ]
  },
  {
   "cell_type": "markdown",
   "metadata": {},
   "source": [
    "# Lancer des tests sur diff browsers : `Chrome`, `FireFox`, `Edge` (peu importe la version) ? \n",
    "* [webdriver manager](https://github.com/SergeyPirogov/webdriver_manager) installera dans `C:\\Users\\bejao\\.wdm\\drivers` et màj les drivers automq."
   ]
  },
  {
   "cell_type": "code",
   "execution_count": 4,
   "metadata": {},
   "outputs": [
    {
     "name": "stdout",
     "output_type": "stream",
     "text": [
      "Collecting webdriver_manager\n",
      "  Downloading webdriver_manager-3.5.4-py2.py3-none-any.whl (18 kB)\n",
      "Requirement already satisfied: requests in c:\\users\\bejao\\miniconda3\\lib\\site-packages (from webdriver_manager) (2.27.1)\n",
      "Requirement already satisfied: charset-normalizer~=2.0.0 in c:\\users\\bejao\\miniconda3\\lib\\site-packages (from requests->webdriver_manager) (2.0.4)\n",
      "Requirement already satisfied: idna<4,>=2.5 in c:\\users\\bejao\\miniconda3\\lib\\site-packages (from requests->webdriver_manager) (3.3)\n",
      "Requirement already satisfied: certifi>=2017.4.17 in c:\\users\\bejao\\miniconda3\\lib\\site-packages (from requests->webdriver_manager) (2021.10.8)\n",
      "Requirement already satisfied: urllib3<1.27,>=1.21.1 in c:\\users\\bejao\\miniconda3\\lib\\site-packages (from requests->webdriver_manager) (1.26.7)\n",
      "Installing collected packages: webdriver-manager\n",
      "Successfully installed webdriver-manager-3.5.4\n"
     ]
    }
   ],
   "source": [
    "!pip install webdriver_manager"
   ]
  },
  {
   "cell_type": "code",
   "execution_count": 2,
   "metadata": {},
   "outputs": [],
   "source": [
    "from webdriver_manager.chrome import ChromeDriverManager\n",
    "from webdriver_manager.microsoft import EdgeChromiumDriverManager"
   ]
  },
  {
   "cell_type": "markdown",
   "metadata": {},
   "source": [
    "## Options pour accélerer `webdriver` "
   ]
  },
  {
   "cell_type": "code",
   "execution_count": 7,
   "metadata": {},
   "outputs": [],
   "source": [
    "options = webdriver.ChromeOptions()\n",
    "prefs = {'profile.default_content_setting_values': { 'images': 2,\n",
    "                            'plugins': 2, 'popups': 2, 'geolocation': 2, \n",
    "                            'notifications': 2, 'auto_select_certificate': 2, 'fullscreen': 2, \n",
    "                            'mouselock': 2, 'mixed_script': 2, 'media_stream': 2, \n",
    "                            'media_stream_mic': 2, 'media_stream_camera': 2, 'protocol_handlers': 2, \n",
    "                            'ppapi_broker': 2, 'automatic_downloads': 2, 'midi_sysex': 2, \n",
    "                            'push_messaging': 2, 'ssl_cert_decisions': 2, 'metro_switch_to_desktop': 2, \n",
    "                            'protected_media_identifier': 2, 'app_banner': 2, 'site_engagement': 2, \n",
    "                            'durable_storage': 2}}\n",
    "\n",
    "options.add_experimental_option(\"prefs\", prefs)\n",
    "options.add_argument(\"start-maximized\")\n",
    "options.add_argument(\"disable-infobars\")\n",
    "options.add_argument(\"--disable-extensions\")\n",
    "options.add_argument('--ignore-certificate-errors')"
   ]
  },
  {
   "cell_type": "markdown",
   "metadata": {},
   "source": [
    "* Si vs rencontrez ce bug lors du lancement du driver chrome, ajoutez les options suivantes : \n",
    "* crbug.com/1216328: Checking Bluetooth availability started. Please report if there is no report that this ends.\n",
    "[stackoverflow](https://stackoverflow.com/questions/69441767/error-using-selenium-chrome-webdriver-with-python)"
   ]
  },
  {
   "cell_type": "code",
   "execution_count": 8,
   "metadata": {},
   "outputs": [],
   "source": [
    "options = webdriver.ChromeOptions()\n",
    "options.add_experimental_option('excludeSwitches', ['enable-logging'])"
   ]
  },
  {
   "cell_type": "code",
   "execution_count": 9,
   "metadata": {},
   "outputs": [
    {
     "name": "stderr",
     "output_type": "stream",
     "text": [
      "\n",
      "\n",
      "====== WebDriver manager ======\n",
      "Current google-chrome version is 107.0.5304\n",
      "Get LATEST chromedriver version for 107.0.5304 google-chrome\n",
      "Driver [C:\\Users\\bejao\\.wdm\\drivers\\chromedriver\\win32\\107.0.5304.62\\chromedriver.exe] found in cache\n",
      "C:\\Users\\bejao\\miniconda3\\lib\\site-packages\\ipykernel_launcher.py:1: DeprecationWarning: executable_path has been deprecated, please pass in a Service object\n",
      "  \"\"\"Entry point for launching an IPython kernel.\n"
     ]
    }
   ],
   "source": [
    "chrome = webdriver.Chrome(ChromeDriverManager().install())\n",
    "\n",
    "## Quelques options pr contrôller ChromeDriverManager  \n",
    "# chrome = webdriver.Chrome(ChromeDriverManager(log_level=0, print_first_line=False, cache_valid_range=7).install(), options=options)\n",
    "# log_level=0 (silent log), print_first_line=False (un saut de ligne est par défaut) => console moins encombrée ... !\n",
    "# cache_valid_range=7 => augmenter la durée de validité du cache à 7 jours (par défaut 1 jour)\n",
    "# chrome.implicitly_wait(10)\n",
    "# chrome.delete_all_cookies()"
   ]
  },
  {
   "cell_type": "markdown",
   "metadata": {},
   "source": [
    "# Nous allons simuler et tester une recherche sur le site officiel de Python"
   ]
  },
  {
   "cell_type": "markdown",
   "metadata": {},
   "source": [
    "## Trouver un element par `CSS ID`\n",
    "* Comment inspecter correctement une page : [tuto](https://www.lambdatest.com/blog/locators-in-selenium-webdriver-with-examples/)\n",
    "* Inspecter la page et vérifier ceci : \n",
    "`<input id=\"id-search-field\" name=\"q\" type=\"search\" role=\"textbox\" class=\"search-field\" placeholder=\"Search\" value=\"\" tabindex=\"1\" xpath=\"1\">`"
   ]
  },
  {
   "cell_type": "code",
   "execution_count": 13,
   "metadata": {},
   "outputs": [
    {
     "name": "stderr",
     "output_type": "stream",
     "text": [
      "\n",
      "\n",
      "====== WebDriver manager ======\n",
      "Current google-chrome version is 107.0.5304\n",
      "Get LATEST chromedriver version for 107.0.5304 google-chrome\n",
      "Driver [C:\\Users\\bejao\\.wdm\\drivers\\chromedriver\\win32\\107.0.5304.62\\chromedriver.exe] found in cache\n",
      "C:\\Users\\bejao\\miniconda3\\lib\\site-packages\\ipykernel_launcher.py:3: DeprecationWarning: executable_path has been deprecated, please pass in a Service object\n",
      "  This is separate from the ipykernel package so we can avoid doing imports until\n",
      "C:\\Users\\bejao\\miniconda3\\lib\\site-packages\\ipykernel_launcher.py:14: DeprecationWarning: find_element_by_* commands are deprecated. Please use find_element() instead\n",
      "  \n"
     ]
    }
   ],
   "source": [
    "# C'est la méthode la plus simple ! CSS ID est unique !\n",
    "# driver = webdriver.Chrome(executable_path=r'C:/chromedriver.exe')\n",
    "driver = webdriver.Chrome(executable_path=ChromeDriverManager().install(), options=options)\n",
    "\n",
    "# La méthode driver.get mènera à une page donnée par l'URL. WebDriver attendra que la page soit complètement chargée. Càd que l'événement “onload” s'est déclenché avant de rendre le contrôle à votre script.\n",
    "driver.get(\"https://www.python.org\")\n",
    "# Je teste si Python se trouve dans le titre de la page ? \n",
    "assert \"Python\" in driver.title\n",
    "\n",
    "# Je teste si Java se trouve dans le titre de la page ?\n",
    "# Une exception est levée : AssertionError (Java n'est pas ds le titre) \n",
    "# assert \"Java\" in driver.title\n",
    "\n",
    "search_bar = driver.find_element_by_id(\"id-search-field\")\n",
    "# Pour des raisons de sécurité, nous effacerons tout texte pré-rempli dans le champ de saisie \n",
    "# (par exemple, «Rechercher») afin que cela n'affecte pas nos résultats de recherche:\n",
    "search_bar.clear()\n",
    "time.sleep(round(random.uniform(3, 5), 1))\n",
    "search_bar.send_keys(\"pycon\")\n",
    "time.sleep(round(random.uniform(3, 5), 1))\n",
    "search_bar.send_keys(Keys.ENTER)\n",
    "\n",
    "# print(type(driver.find_element_by_id(\"id-search-field\").clear()))\n",
    "# driver.find_element_by_id(\"id-search-field\").clear().send_keys(\"pycon\" + Keys.ENTER)\n",
    "\n",
    "# Après soumission de la page, vous devriez obtenir le résultat s'il y en a. Pour vous assurer que certains résultats sont trouvés, faites une assertion:\n",
    "# assert \"No results found.\" not in driver.page_source\n",
    "\n",
    "# time.sleep(round(random.uniform(3, 5), 1))\n",
    "\n",
    "driver.close()\n",
    "driver.quit()"
   ]
  },
  {
   "cell_type": "code",
   "execution_count": null,
   "metadata": {},
   "outputs": [],
   "source": [
    "def test_search_bar():\n",
    "    driver = webdriver.Chrome(executable_path=ChromeDriverManager().install())\n",
    "    driver.get(\"https://www.python.org\")\n",
    "    assert \"Python\" in driver.title\n",
    "\n",
    "\n",
    "     "
   ]
  },
  {
   "cell_type": "code",
   "execution_count": null,
   "metadata": {},
   "outputs": [],
   "source": [
    "# C'est une 2è méthode qui consiste à chercher par le nom de la classe ! \n",
    "# Att : le nom de la classe n'est pas unique parcq par déf la CSS classe est appliquée à un groupe d'élements! \n",
    "\n",
    "driver = webdriver.Chrome(executable_path=ChromeDriverManager().install())\n",
    "driver.get(\"https://www.python.org\")\n",
    "first_search_bar = driver.find_element_by_class_name(\"search-field\")\n",
    "first_search_bar.clear()\n",
    "first_search_bar.send_keys(\"pycon\")\n",
    "time.sleep(round(random.uniform(3, 5), 1))\n",
    "first_search_bar.send_keys(Keys.ENTER)\n",
    "time.sleep(round(random.uniform(3, 5), 1))\n",
    "driver.close()\n",
    "driver.quit()"
   ]
  },
  {
   "cell_type": "markdown",
   "metadata": {},
   "source": [
    "## Trouver un element par `CSS Class Name`"
   ]
  },
  {
   "cell_type": "markdown",
   "metadata": {},
   "source": [
    "## Trouver un element par `Name`"
   ]
  },
  {
   "cell_type": "code",
   "execution_count": 15,
   "metadata": {},
   "outputs": [],
   "source": [
    "# Att : le nom de l'élément peut ne pas être unique\n",
    "# driver = webdriver.Chrome(executable_path=ChromeDriverManager().install())\n",
    "# driver.get(\"https://www.python.org\")\n",
    "# assert \"Python\" in driver.title\n",
    "# first_search_bar = driver.find_element_by_name(\"q\")\n",
    "# first_search_bar.clear()\n",
    "# first_search_bar.send_keys(\"pycon\")\n",
    "# # time.sleep(round(random.uniform(3, 5), 1)) first_search_bar.send_keys(Keys.ENTER)\n",
    "# # time.sleep(round(random.uniform(3, 5), 1))\n",
    "# driver.close()\n",
    "# driver.quit()"
   ]
  },
  {
   "cell_type": "markdown",
   "metadata": {},
   "source": [
    "## Trouver un element par `XPath`"
   ]
  },
  {
   "cell_type": "code",
   "execution_count": 38,
   "metadata": {},
   "outputs": [],
   "source": [
    "driver = webdriver.Chrome(executable_path=ChromeDriverManager().install())\n",
    "driver.get(\"https://www.python.org\")\n",
    "first_search_bar = driver.find_element_by_xpath(\"//input[@name='q']\")\n",
    "first_search_bar.clear()\n",
    "first_search_bar.send_keys(\"pycon\")\n",
    "time.sleep(round(random.uniform(3, 5), 1))\n",
    "first_search_bar.send_keys(Keys.ENTER)\n",
    "time.sleep(round(random.uniform(3, 5), 1))\n",
    "driver.close()\n",
    "driver.quit()"
   ]
  },
  {
   "cell_type": "markdown",
   "metadata": {},
   "source": [
    "## Trouver un element par `Tag Name`"
   ]
  },
  {
   "cell_type": "code",
   "execution_count": 39,
   "metadata": {},
   "outputs": [],
   "source": [
    "driver = webdriver.Chrome(executable_path=ChromeDriverManager().install())\n",
    "driver.get(\"https://www.python.org\")\n",
    "first_search_bar = driver.find_element_by_tag_name(\"input\")\n",
    "first_search_bar.clear()\n",
    "first_search_bar.send_keys(\"pycon\")\n",
    "time.sleep(round(random.uniform(3, 5), 1))\n",
    "first_search_bar.send_keys(Keys.ENTER)\n",
    "time.sleep(round(random.uniform(3, 5), 1))\n",
    "driver.close()\n",
    "driver.quit()"
   ]
  },
  {
   "cell_type": "markdown",
   "metadata": {},
   "source": [
    "## Trouver plusieurs élements"
   ]
  },
  {
   "cell_type": "code",
   "execution_count": null,
   "metadata": {},
   "outputs": [],
   "source": [
    "from selenium.webdriver.common.by import By\n",
    "all_inputs = driver.find_elements(By.XPATH, '//form[@id='loginForm']/input')"
   ]
  },
  {
   "cell_type": "markdown",
   "metadata": {},
   "source": [
    "# Démo 1"
   ]
  },
  {
   "cell_type": "code",
   "execution_count": 14,
   "metadata": {},
   "outputs": [
    {
     "name": "stderr",
     "output_type": "stream",
     "text": [
      "\n",
      "\n",
      "====== WebDriver manager ======\n",
      "Current google-chrome version is 107.0.5304\n",
      "Get LATEST chromedriver version for 107.0.5304 google-chrome\n",
      "Driver [C:\\Users\\bejao\\.wdm\\drivers\\chromedriver\\win32\\107.0.5304.62\\chromedriver.exe] found in cache\n",
      "C:\\Users\\bejao\\miniconda3\\lib\\site-packages\\ipykernel_launcher.py:2: DeprecationWarning: executable_path has been deprecated, please pass in a Service object\n",
      "  \n"
     ]
    },
    {
     "name": "stdout",
     "output_type": "stream",
     "text": [
      "Boutique de mode en ligne : Zalando\n",
      "https://www.zalando.fr/\n",
      "https://www.zalando.fr/\n"
     ]
    }
   ],
   "source": [
    "# driver = webdriver.Chrome(executable_path=r'C:/chromedriver.exe')\n",
    "driver = webdriver.Chrome(executable_path=ChromeDriverManager().install())\n",
    "\n",
    "driver.get('https://www.zalando.fr/')\n",
    "\n",
    "# Il est à noter que si votre page utilise beaucoup d'AJAX au chargement, WebDriver peut ne pas savoir quand il s'est complètement chargé:\n",
    "time.sleep(round(random.uniform(3, 5), 1))\n",
    "# ou encore\n",
    "# driver.implicitly_wait(10)\n",
    "\n",
    "\n",
    "\n",
    "# Agrandir, minimiser, full screen la fenêtre\n",
    "driver.maximize_window()\n",
    "time.sleep(round(random.uniform(3, 5), 1))\n",
    "driver.minimize_window()\n",
    "time.sleep(round(random.uniform(3, 5), 1))\n",
    "driver.maximize_window()\n",
    "driver.fullscreen_window()\n",
    "\n",
    "print(driver.title)\n",
    "# assert ...\n",
    "print(driver.current_url)\n",
    "\n",
    "\n",
    "# WebDriver propose plusieurs méthodes pour rechercher des éléments à l'aide de l'une des méthodes find_element_by_ *  \n",
    "# Ensuite, nous envoyons des clés. C’est similaire à la saisie de touches à l’aide de votre clavier. \n",
    "# Des clés spéciales peuvent être envoyées à l'aide de la classe Keys importée de selenium.webdriver.common.keys \n",
    "# search_bar_xpath = \"//input[@placeholder='Rechercher']\" #  \"//input[@name='q']\"\n",
    "# driver.find_element_by_xpath(search_bar_xpath).send_keys(\"nike\")  # 1è façon \n",
    "# driver.find_element(By.XPATH, search_bar_xpath).send_keys(\"nike\") # 2è façon (plus élégante)\n",
    "# driver.find_element(By.XPATH, search_bar_xpath).send_keys(\"nike\" + Keys.ENTER) \n",
    "\n",
    "# Q : Cmnt simuler une sasie au clavier (par un humain) ?   \n",
    "# https://stackoverflow.com/questions/28132165/can-selenium-webdriver-make-a-random-time-beween-send-keys-to-simulate-human-be\n",
    "\n",
    "# Q : Cmnt saisir plusieurs touches successivement ?  \n",
    "# https://www.it-swarm-fr.com/fr/java/comment-appuyer-sur-tab-puis-sur-enter-dans-selenium-webdriver-en-utilisant-java/1051914028/\n",
    "\n",
    "# https://stackoverflow.com/questions/35385221/send-multiple-tab-key-presses-with-selenium\n",
    "\n",
    "\n",
    "# beaute_xpath = \"//span[contains(text(),'Beauté')]\"\n",
    "# rasage_xpath = \"//span[normalize-space()='Rasage']\"\n",
    "# # homme_x_path = \"(//span[contains(text(),'Homme')])[1]\"\n",
    "# driver.find_element_by_xpath(beaute_xpath).click()\n",
    "# time.sleep(round(random.uniform(3, 5), 1))\n",
    "# driver.find_element_by_xpath(rasage_xpath).click()\n",
    "# time.sleep(round(random.uniform(3, 5), 1))\n",
    "print(driver.current_url)\n",
    "# driver.back() \n",
    "# driver.find_element_by_xpath(homme_x_path).click()\n",
    "# time.sleep(round(random.uniform(3, 5), 1))\n",
    "# print(driver.current_url)\n",
    "# driver.forward() \n",
    "# time.sleep(round(random.uniform(3, 5), 1))\n",
    "# print(driver.current_url)\n",
    "# driver.refresh\n",
    "\n",
    "\n",
    "# time.sleep(round(random.uniform(3, 6), 1))\n",
    "driver.close() # On ferme le browser\n",
    "driver.quit()  # on arrete le driver, càd j'allège les ressources   \n"
   ]
  },
  {
   "cell_type": "code",
   "execution_count": null,
   "metadata": {
    "collapsed": true
   },
   "outputs": [
    {
     "name": "stdout",
     "output_type": "stream",
     "text": [
      "1.31\n",
      "A\n",
      "1.64\n",
      "n\n",
      "1.77\n",
      "t\n",
      "1.46\n",
      "h\n",
      "1.8\n",
      "o\n",
      "1.93\n",
      "n\n",
      "1.64\n",
      "y\n",
      "1.89\n",
      " \n",
      "1.15\n",
      "S\n",
      "1.7\n",
      "t\n",
      "1.48\n",
      "r\n",
      "1.68\n",
      "e\n",
      "1.44\n",
      "e\n",
      "1.36\n",
      "t\n",
      "1.36\n",
      " \n",
      "1.49\n",
      "3\n",
      "1.35\n",
      "5\n"
     ]
    }
   ],
   "source": [
    "address = 'Anthony Street 35'\n",
    "for letter in address:\n",
    "    dodo=round(random.uniform(0,1), 2)\n",
    "    print(dodo)\n",
    "    time.sleep(dodo)  # sleep between 1 and 3 seconds\n",
    "    print(letter)"
   ]
  },
  {
   "cell_type": "code",
   "execution_count": null,
   "metadata": {},
   "outputs": [
    {
     "data": {
      "text/plain": [
       "True"
      ]
     },
     "metadata": {},
     "output_type": "display_data"
    }
   ],
   "source": [
    "# Il ne faut pas confondre Selenium et webbrowser !\n",
    "import webbrowser   #  webbrower Comes with Python and opens a browser to a specific page\n",
    "webbrowser.open('http://inventwithpython.com/')\n",
    "\n",
    "# Cl : Selenium : Launches and controls a web browser. Selenium is able to fill in forms and simulate mouse clicks in this browser."
   ]
  },
  {
   "cell_type": "markdown",
   "metadata": {},
   "source": [
    "# Réccupérer le numéro de téléphone d'une annonce sur [leboncoin](https://www.leboncoin.fr/)"
   ]
  },
  {
   "cell_type": "code",
   "execution_count": null,
   "metadata": {},
   "outputs": [],
   "source": [
    "from selenium import webdriver\n",
    "from selenium.webdriver.support.ui import WebDriverWait\n",
    "from selenium.webdriver.support import expected_conditions as EC\n",
    "from selenium.common.exceptions import TimeoutException\n",
    "from selenium.webdriver.common.by import By\n",
    "\n",
    "url='https://www.leboncoin.fr/sports_hobbies/1536839557.htm/'\n",
    "\n",
    "driver = webdriver.chrome()\n",
    "driver.implicitly_wait(10)\n",
    "driver.get(url)\n",
    "\n",
    "\n",
    "python_button = driver.find_elements_by_xpath('//div[@data-reactid=\"269\"]')[0]\n",
    "python_button.click()\n",
    "\n",
    "# Et après, c'est comme avec Beautiful soup\n",
    "soup=BeautifulSoup(driver.page_source)\n",
    "\n",
    "driver.close()\n",
    "\n",
    "# Et après, c'est comme avec Beautiful soup\n",
    "for elem in soup.find_all('a',attrs={\"data-qa-id\" :\"adview_number_phone_contact\" }):\n",
    "    print(elem.text)\n"
   ]
  },
  {
   "cell_type": "markdown",
   "metadata": {},
   "source": [
    "#### En partant d'une annonce du bon coin, recuperer tous les éléments disponibles permettant de bien définir le produit mis en vente. Utilisez selenium pour le numéro de telephone"
   ]
  },
  {
   "cell_type": "markdown",
   "metadata": {},
   "source": [
    "# Exercice\n",
    "\n",
    " Scrappez la marque, le modèle et le prix d'une série d'articles de votre choix pour en faire un dataframe pandas"
   ]
  },
  {
   "cell_type": "code",
   "execution_count": null,
   "metadata": {},
   "outputs": [],
   "source": [
    "browser = webdriver.Chrome(ChromeDriverManager().install())\n",
    "browser.get('https://www.zalando.fr/')\n",
    "time.sleep(3)\n",
    "marques = []\n",
    "modeles = []\n",
    "prix = []\n",
    "\n",
    "articles = browser.find_elements_by_tag_name('article')\n",
    "\n",
    "for i in range(len(articles)):\n",
    "    articles = browser.find_elements_by_tag_name('article')\n",
    "    articles[i].click()\n",
    "    time.sleep(2)\n",
    "    print(i)\n",
    "    \n",
    "    try:\n",
    "        marque = browser.find_element_by_xpath('/html/body/div[4]/div/div[1]/div/div[2]/x-wrapper-re-1-3/div[1]/a/span/h3')\n",
    "        marques.append(marque.text)\n",
    "    except:\n",
    "        marques.append('nan')\n",
    "        pass\n",
    "    \n",
    "    try:\n",
    "        model = browser.find_element_by_xpath('/html/body/div[4]/div/div[1]/div/div[2]/x-wrapper-re-1-3/h1')\n",
    "        modeles.append(model.text)\n",
    "    except:\n",
    "        modeles.append('nan')\n",
    "        pass\n",
    "    \n",
    "    try:\n",
    "        montant = browser.find_element_by_xpath('/html/body/div[4]/div/div[1]/div/div[2]/x-wrapper-re-1-3/div[3]/div/div/span[1]')\n",
    "        montant = montant.text.split(' ')\n",
    "        montant = montant[0]\n",
    "        prix.append(montant)\n",
    "    except:\n",
    "        prix.append('nan')\n",
    "        pass\n",
    "    \n",
    "    browser.back()\n",
    "    time.sleep(3)\n",
    "\n",
    "df = pd.DataFrame({'marque': marques, 'modele': modeles, 'prix': prix})"
   ]
  },
  {
   "cell_type": "markdown",
   "metadata": {},
   "source": [
    "# Exercice\n",
    "\n",
    " Scrappez des commentaires sur un site de votre choix (amazon, trip advisor, la fourchette ...) pour en faire un dataset pour faire du NLP (analyse de sentiment, topic modeling, ...)"
   ]
  },
  {
   "cell_type": "code",
   "execution_count": null,
   "metadata": {},
   "outputs": [],
   "source": [
    "chrome.get('https://www.zalando.fr/')\n",
    "chrome.maximize_window()\n",
    "print(chrome.title)\n",
    "time.sleep(3)\n",
    "chrome.close()\n",
    "chrome.quit()"
   ]
  }
 ],
 "metadata": {
  "interpreter": {
   "hash": "da03a2949bd7f7e1e2f8a272eaea5cb5c8effd8622bbe3cc4e7f8a7d557202f6"
  },
  "kernelspec": {
   "display_name": "Python 3 (ipykernel)",
   "language": "python",
   "name": "python3"
  },
  "language_info": {
   "codemirror_mode": {
    "name": "ipython",
    "version": 3
   },
   "file_extension": ".py",
   "mimetype": "text/x-python",
   "name": "python",
   "nbconvert_exporter": "python",
   "pygments_lexer": "ipython3",
   "version": "3.7.6"
  }
 },
 "nbformat": 4,
 "nbformat_minor": 2
}
