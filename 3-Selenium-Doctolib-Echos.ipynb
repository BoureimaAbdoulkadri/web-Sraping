{
 "cells": [
  {
   "cell_type": "markdown",
   "metadata": {
    "id": "qWUK25s9YosK"
   },
   "source": [
    "# 3. Web Scraping - Selenium\n",
    "\n",
    "<img src = 'https://xn--kvin-duranty-beb.fr/wp-content/uploads/2022/10/Web-Scraping-_-IPSSI-PRS-2.png' >\n",
    "\n",
    "\n",
    "\n",
    "Dans cet exercice, nous utiliserons la bibliothèque Selenium afin de collecter les données des sites internet suivants :\n",
    "\n",
    "- Partie 1 : [Doctolib](https://www.doctolib.fr/dentiste/paris)\n",
    "Nous continuerons là où Beautifullsoup montrait ses limites en collectant de manière automatisée toutes les pages référencées par Doctolib.\n",
    "\n",
    "\n",
    "- Partie 2 : [Les Echos](https://www.lesechos.fr/)\n",
    "Nous collecterons les articles correspondants à la thématiques `Intelligence artificielle`.\n",
    "\n",
    "\n",
    "\n",
    "# Partie 1 - [Doctolib](https://www.doctolib.fr/)\n",
    "\n",
    "\n",
    "<img src='https://upload.wikimedia.org/wikipedia/fr/thumb/7/7f/Logo-doctolib.svg/640px-Logo-doctolib.svg.png'>\n",
    "\n",
    "\n",
    "Les informations que nous souhaitons collecter sont les suivantes :\n",
    "- le nom du praticien\n",
    "- la profession du praticien\n",
    "- l'adresse du praticien\n",
    "- la ville du praticien\n",
    "- l'image de la fiche Doctolib du praticien\n",
    "\n",
    "\n",
    "\n",
    "## 3.1 Installez la bibliothèque Selenium\n",
    "Utilitisez la commande suivante dans votre terminal :  `pip install selenium`"
   ]
  },
  {
   "cell_type": "markdown",
   "metadata": {
    "id": "mR9D9-6FApfo"
   },
   "source": [
    "## 3.2 Télécharger le webdriver [chrome](https://chromedriver.chromium.org/downloads)\n",
    "Placez le ensuite dans le dossier Web-scraping"
   ]
  },
  {
   "cell_type": "markdown",
   "metadata": {
    "id": "uwkgd4d2Apfo"
   },
   "source": [
    "## 3.3 Importer l'objet `webdriver`de la bibliothèque de `selenium`\n",
    "Importez également `By` depuis `selenium.webdriver.common.by`"
   ]
  },
  {
   "cell_type": "code",
   "execution_count": null,
   "metadata": {
    "executionInfo": {
     "elapsed": 6,
     "status": "ok",
     "timestamp": 1666044847490,
     "user": {
      "displayName": "Kévin Duranty",
      "userId": "15131849859703425204"
     },
     "user_tz": -120
    },
    "id": "Baohn24aApfp"
   },
   "outputs": [],
   "source": []
  },
  {
   "cell_type": "markdown",
   "metadata": {
    "id": "e84Md10rApfp"
   },
   "source": [
    "## 3.4 Deffinissez une variable `driver = webdriver.Chrome(DRIVER_PATH)` \n",
    "Où `DRIVER_PATH` est le chemin du web driver téléchargé à la question **3.2** ==> `\"./chromedriver\"`."
   ]
  },
  {
   "cell_type": "code",
   "execution_count": null,
   "metadata": {
    "executionInfo": {
     "elapsed": 6,
     "status": "ok",
     "timestamp": 1666044847491,
     "user": {
      "displayName": "Kévin Duranty",
      "userId": "15131849859703425204"
     },
     "user_tz": -120
    },
    "id": "sxbMR06BApfq"
   },
   "outputs": [],
   "source": []
  },
  {
   "cell_type": "markdown",
   "metadata": {
    "id": "g22ZRCTBApfq"
   },
   "source": [
    "## 3.5 Utilisez la méthode `get(BASE_URL)` de l'objet `driver` puis notez vos observations.\n",
    "`BASE_URL`est le lien pointant vers le site de Doctolib `\"https://www.doctolib.fr/dentiste/paris\"`"
   ]
  },
  {
   "cell_type": "code",
   "execution_count": null,
   "metadata": {
    "executionInfo": {
     "elapsed": 5,
     "status": "ok",
     "timestamp": 1666044847491,
     "user": {
      "displayName": "Kévin Duranty",
      "userId": "15131849859703425204"
     },
     "user_tz": -120
    },
    "id": "oVKZ5v5CApfr"
   },
   "outputs": [],
   "source": []
  },
  {
   "cell_type": "code",
   "execution_count": null,
   "metadata": {
    "executionInfo": {
     "elapsed": 2,
     "status": "ok",
     "timestamp": 1666044848892,
     "user": {
      "displayName": "Kévin Duranty",
      "userId": "15131849859703425204"
     },
     "user_tz": -120
    },
    "id": "qfsougCnApfr"
   },
   "outputs": [],
   "source": []
  },
  {
   "cell_type": "markdown",
   "metadata": {
    "id": "OC6ZKLnNApfs"
   },
   "source": [
    "## 3.6 Affichez l'adresse url courante ainsi que le titre de la page."
   ]
  },
  {
   "cell_type": "code",
   "execution_count": null,
   "metadata": {
    "executionInfo": {
     "elapsed": 2,
     "status": "ok",
     "timestamp": 1666044852994,
     "user": {
      "displayName": "Kévin Duranty",
      "userId": "15131849859703425204"
     },
     "user_tz": -120
    },
    "id": "vS5Z0QYSApfs"
   },
   "outputs": [],
   "source": []
  },
  {
   "cell_type": "markdown",
   "metadata": {
    "id": "4lRE7ywZApfs"
   },
   "source": [
    "## 3.7 Récupérez dans une variable `selection` la liste des praticients présents sur la page\n",
    "Utilisez la méthéode `find_elements`, cette méthode prend deux arguments `By.CLASS_NAME` ainsi que le nom de la class recherchée sur la page."
   ]
  },
  {
   "cell_type": "code",
   "execution_count": null,
   "metadata": {
    "executionInfo": {
     "elapsed": 356,
     "status": "ok",
     "timestamp": 1666044856470,
     "user": {
      "displayName": "Kévin Duranty",
      "userId": "15131849859703425204"
     },
     "user_tz": -120
    },
    "id": "SLgMToEAApft"
   },
   "outputs": [],
   "source": []
  },
  {
   "cell_type": "markdown",
   "metadata": {
    "id": "7t3IZB3YApft"
   },
   "source": [
    "## 3.8 Affichez les information du premier élément de `selection` via son instance `text``."
   ]
  },
  {
   "cell_type": "code",
   "execution_count": null,
   "metadata": {
    "executionInfo": {
     "elapsed": 293,
     "status": "ok",
     "timestamp": 1666044860984,
     "user": {
      "displayName": "Kévin Duranty",
      "userId": "15131849859703425204"
     },
     "user_tz": -120
    },
    "id": "Dfi7xya_Apft"
   },
   "outputs": [],
   "source": []
  },
  {
   "cell_type": "code",
   "execution_count": null,
   "metadata": {
    "executionInfo": {
     "elapsed": 4,
     "status": "ok",
     "timestamp": 1666044865666,
     "user": {
      "displayName": "Kévin Duranty",
      "userId": "15131849859703425204"
     },
     "user_tz": -120
    },
    "id": "7hwP8UTZApft"
   },
   "outputs": [],
   "source": []
  },
  {
   "cell_type": "markdown",
   "metadata": {
    "id": "wC0iJ7gEApft"
   },
   "source": [
    "## 3.9 Recherchez à nouveau à l'aide de la méthode `find_element` la photo du premier praticien figurant dans la liste ``selection``."
   ]
  },
  {
   "cell_type": "code",
   "execution_count": null,
   "metadata": {
    "executionInfo": {
     "elapsed": 231,
     "status": "ok",
     "timestamp": 1666044870230,
     "user": {
      "displayName": "Kévin Duranty",
      "userId": "15131849859703425204"
     },
     "user_tz": -120
    },
    "id": "pNt3sPfgApfu"
   },
   "outputs": [],
   "source": []
  },
  {
   "cell_type": "markdown",
   "metadata": {
    "id": "lHfFjEAvApfu"
   },
   "source": [
    "## 3.10 Récupérez à présent le lien de cette image en utilisant la méthode `get_attribute`."
   ]
  },
  {
   "cell_type": "code",
   "execution_count": null,
   "metadata": {
    "executionInfo": {
     "elapsed": 1,
     "status": "ok",
     "timestamp": 1666044873269,
     "user": {
      "displayName": "Kévin Duranty",
      "userId": "15131849859703425204"
     },
     "user_tz": -120
    },
    "id": "RB8EOce-Apfu"
   },
   "outputs": [],
   "source": []
  },
  {
   "cell_type": "markdown",
   "metadata": {
    "id": "wiqClDEOApfu"
   },
   "source": [
    "## 3.11 Créez une fonction `collect_data` qui renvoie un fichier `json` contenant les informations de tous les praticiens ainsi que leurs photos de profil."
   ]
  },
  {
   "cell_type": "code",
   "execution_count": null,
   "metadata": {
    "executionInfo": {
     "elapsed": 5,
     "status": "ok",
     "timestamp": 1666044875637,
     "user": {
      "displayName": "Kévin Duranty",
      "userId": "15131849859703425204"
     },
     "user_tz": -120
    },
    "id": "KMN5H_sEApfu"
   },
   "outputs": [],
   "source": []
  },
  {
   "cell_type": "code",
   "execution_count": null,
   "metadata": {
    "executionInfo": {
     "elapsed": 4,
     "status": "ok",
     "timestamp": 1666044878923,
     "user": {
      "displayName": "Kévin Duranty",
      "userId": "15131849859703425204"
     },
     "user_tz": -120
    },
    "id": "lqnG7mF_Apfu"
   },
   "outputs": [],
   "source": []
  },
  {
   "cell_type": "markdown",
   "metadata": {
    "id": "V_l7vHhbApfv"
   },
   "source": [
    "## 3.9 Automatisez la collecte sur les pages 5 premières pages de résultats."
   ]
  },
  {
   "cell_type": "code",
   "execution_count": null,
   "metadata": {
    "executionInfo": {
     "elapsed": 224,
     "status": "ok",
     "timestamp": 1666044884428,
     "user": {
      "displayName": "Kévin Duranty",
      "userId": "15131849859703425204"
     },
     "user_tz": -120
    },
    "id": "M62YBRmWApfv"
   },
   "outputs": [],
   "source": []
  },
  {
   "cell_type": "code",
   "execution_count": null,
   "metadata": {
    "executionInfo": {
     "elapsed": 3,
     "status": "ok",
     "timestamp": 1666044888418,
     "user": {
      "displayName": "Kévin Duranty",
      "userId": "15131849859703425204"
     },
     "user_tz": -120
    },
    "id": "ZexhDdytApfv"
   },
   "outputs": [],
   "source": []
  },
  {
   "cell_type": "markdown",
   "metadata": {
    "id": "McOBAIXNApfv"
   },
   "source": [
    "# Partie 2 - Collectes automatisée | [Les Echos](https://www.lesechos.fr/)\n",
    "\n",
    "\n",
    "\n",
    "<br>\n",
    "\n",
    "<br>\n",
    "\n",
    "\n",
    "<img src = 'https://upload.wikimedia.org/wikipedia/fr/thumb/b/bb/Les_echos_%28logo%29.svg/1200px-Les_echos_%28logo%29.svg.png'>\n",
    "\n",
    "<br><br>\n",
    "\n",
    "Les informations que nous souhaitons collecter sont les suivantes :\n",
    "\n",
    "- l’auteur,\n",
    "- la date de publication,\n",
    "- le titre,\n",
    "- le contenu de la page,\n"
   ]
  },
  {
   "cell_type": "code",
   "execution_count": null,
   "metadata": {
    "executionInfo": {
     "elapsed": 4,
     "status": "ok",
     "timestamp": 1666044891265,
     "user": {
      "displayName": "Kévin Duranty",
      "userId": "15131849859703425204"
     },
     "user_tz": -120
    },
    "id": "gwUuEg4ZApfv"
   },
   "outputs": [],
   "source": []
  },
  {
   "cell_type": "code",
   "execution_count": null,
   "metadata": {
    "executionInfo": {
     "elapsed": 232,
     "status": "ok",
     "timestamp": 1666044895287,
     "user": {
      "displayName": "Kévin Duranty",
      "userId": "15131849859703425204"
     },
     "user_tz": -120
    },
    "id": "9bXxwmNRApfv"
   },
   "outputs": [],
   "source": []
  },
  {
   "cell_type": "code",
   "execution_count": null,
   "metadata": {
    "executionInfo": {
     "elapsed": 239,
     "status": "ok",
     "timestamp": 1666044898173,
     "user": {
      "displayName": "Kévin Duranty",
      "userId": "15131849859703425204"
     },
     "user_tz": -120
    },
    "id": "MKIQ6-VUApfv"
   },
   "outputs": [],
   "source": []
  },
  {
   "cell_type": "code",
   "execution_count": null,
   "metadata": {
    "executionInfo": {
     "elapsed": 3,
     "status": "ok",
     "timestamp": 1666044900734,
     "user": {
      "displayName": "Kévin Duranty",
      "userId": "15131849859703425204"
     },
     "user_tz": -120
    },
    "id": "EYJM1_LaApfw",
    "scrolled": false
   },
   "outputs": [],
   "source": []
  },
  {
   "cell_type": "code",
   "execution_count": null,
   "metadata": {
    "id": "T2GUzERvApfw"
   },
   "outputs": [],
   "source": []
  }
 ],
 "metadata": {
  "colab": {
   "collapsed_sections": [],
   "provenance": []
  },
  "kernelspec": {
   "display_name": "Python 3 (ipykernel)",
   "language": "python",
   "name": "python3"
  },
  "language_info": {
   "codemirror_mode": {
    "name": "ipython",
    "version": 3
   },
   "file_extension": ".py",
   "mimetype": "text/x-python",
   "name": "python",
   "nbconvert_exporter": "python",
   "pygments_lexer": "ipython3",
   "version": "3.7.6"
  }
 },
 "nbformat": 4,
 "nbformat_minor": 1
}
