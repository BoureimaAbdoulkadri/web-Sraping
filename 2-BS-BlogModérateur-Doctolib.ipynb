{
 "cells": [
  {
   "cell_type": "markdown",
   "metadata": {
    "id": "qWUK25s9YosK"
   },
   "source": [
    "# 2. Web Scraping - BeautifulSoup\n",
    "\n",
    "<img src='https://xn--kvin-duranty-beb.fr/wp-content/uploads/2022/10/Web-Scraping-_-IPSSI-PRS-1.png'>\n",
    "\n",
    "Dans cet exercice, nous utiliserons la bibliothèque BeautifulSoup afin de collecter les données des sites internet suivants :\n",
    "\n",
    "- Partie 1 : [TheProject.html](http://info.cern.ch/hypertext/WWW/TheProject.html)\n",
    "Nous reprenons le site scrapé  précédement via la bibliothèque `requests`, l'objectif est de comprendre le fonctionnement de la bibliothèque `BeautifulSoup`.\n",
    "\n",
    "\n",
    "- Partie 2 : [Blog Du Modérateur](https://www.blogdumoderateur.com/)\n",
    "L'objectif sera de collecter la liste des articles présents sur la page d'accueil du site.\n",
    "\n",
    "- Partie 3 : [Doctolib](https://www.doctolib.fr/dentiste/paris)\n",
    "Nous verrons que certains sites ont une structure html/css qui entrave la collecte de données, heureusement d'autres bibliothèques existent et permettent de contourner ces restrictions (Selenium).\n",
    "\n",
    "\n",
    "\n",
    "# Partie 1 - [TheProject.html](http://info.cern.ch/hypertext/WWW/TheProject.html)\n",
    "\n",
    "## 2.1 Installez la bibliothèque BeautifulSoup.\n",
    "Utilitisez la commande suivante dans votre terminal :  `pip install BeautifulSoup`"
   ]
  },
  {
   "cell_type": "markdown",
   "metadata": {
    "id": "4Cc8XRxOVooj"
   },
   "source": [
    "## 2.2 Importez le package `BeautifulSoup` à partir de la bibliothèque `bs4`.\n",
    "Importez également la bibliothèque `request`"
   ]
  },
  {
   "cell_type": "code",
   "execution_count": null,
   "metadata": {
    "executionInfo": {
     "elapsed": 25,
     "status": "ok",
     "timestamp": 1665933025490,
     "user": {
      "displayName": "Kévin Duranty",
      "userId": "15131849859703425204"
     },
     "user_tz": -120
    },
    "id": "13pqysyRVooj"
   },
   "outputs": [],
   "source": []
  },
  {
   "cell_type": "markdown",
   "metadata": {
    "id": "eto09NekVook"
   },
   "source": [
    "## 2.3 Faites une requête à l'adresse [TheProject.html](http://info.cern.ch/hypertext/WWW/TheProject.html) via la bibliothèque `requests`.\n",
    "Stockez la réponse dans une variable `response` et affichez le type de cette variable."
   ]
  },
  {
   "cell_type": "code",
   "execution_count": null,
   "metadata": {
    "executionInfo": {
     "elapsed": 23,
     "status": "ok",
     "timestamp": 1665933025490,
     "user": {
      "displayName": "Kévin Duranty",
      "userId": "15131849859703425204"
     },
     "user_tz": -120
    },
    "id": "ECJFWnZNVook"
   },
   "outputs": [],
   "source": []
  },
  {
   "cell_type": "markdown",
   "metadata": {
    "id": "P-g-pE7qVool"
   },
   "source": [
    "## 2.4 Instanciez une variable soup à partir du module `BeautifulSoup` et de la variable `response.text`.\n",
    "\n",
    "Affichez le type de cette variable `soup` ainsi que son instance `text`"
   ]
  },
  {
   "cell_type": "code",
   "execution_count": null,
   "metadata": {
    "executionInfo": {
     "elapsed": 23,
     "status": "ok",
     "timestamp": 1665933025490,
     "user": {
      "displayName": "Kévin Duranty",
      "userId": "15131849859703425204"
     },
     "user_tz": -120
    },
    "id": "1jxBEYBcVool"
   },
   "outputs": [],
   "source": []
  },
  {
   "cell_type": "code",
   "execution_count": null,
   "metadata": {
    "executionInfo": {
     "elapsed": 23,
     "status": "ok",
     "timestamp": 1665933025491,
     "user": {
      "displayName": "Kévin Duranty",
      "userId": "15131849859703425204"
     },
     "user_tz": -120
    },
    "id": "Ly71Km3YVoom"
   },
   "outputs": [],
   "source": []
  },
  {
   "cell_type": "markdown",
   "metadata": {
    "id": "w_YFJERqVoom"
   },
   "source": [
    "## 2.5 Utilisez la méthode `find_all` afin de trouver les balises `header`,`body`, `title`, `h1`, `p` et `a`."
   ]
  },
  {
   "cell_type": "code",
   "execution_count": 1,
   "metadata": {
    "executionInfo": {
     "elapsed": 23,
     "status": "ok",
     "timestamp": 1665933025491,
     "user": {
      "displayName": "Kévin Duranty",
      "userId": "15131849859703425204"
     },
     "user_tz": -120
    },
    "id": "zlfUFsBqVoon"
   },
   "outputs": [],
   "source": [
    "# header\n"
   ]
  },
  {
   "cell_type": "code",
   "execution_count": 2,
   "metadata": {
    "executionInfo": {
     "elapsed": 22,
     "status": "ok",
     "timestamp": 1665933025491,
     "user": {
      "displayName": "Kévin Duranty",
      "userId": "15131849859703425204"
     },
     "user_tz": -120
    },
    "id": "1hSe7AqSVoon"
   },
   "outputs": [],
   "source": [
    "# body\n"
   ]
  },
  {
   "cell_type": "code",
   "execution_count": 3,
   "metadata": {
    "executionInfo": {
     "elapsed": 22,
     "status": "ok",
     "timestamp": 1665933025491,
     "user": {
      "displayName": "Kévin Duranty",
      "userId": "15131849859703425204"
     },
     "user_tz": -120
    },
    "id": "CVBpuSvlVoon"
   },
   "outputs": [],
   "source": [
    "# title\n"
   ]
  },
  {
   "cell_type": "code",
   "execution_count": 4,
   "metadata": {
    "executionInfo": {
     "elapsed": 22,
     "status": "ok",
     "timestamp": 1665933025491,
     "user": {
      "displayName": "Kévin Duranty",
      "userId": "15131849859703425204"
     },
     "user_tz": -120
    },
    "id": "MYn2wWvzVooo"
   },
   "outputs": [],
   "source": [
    "# h1\n"
   ]
  },
  {
   "cell_type": "code",
   "execution_count": 5,
   "metadata": {
    "executionInfo": {
     "elapsed": 21,
     "status": "ok",
     "timestamp": 1665933025491,
     "user": {
      "displayName": "Kévin Duranty",
      "userId": "15131849859703425204"
     },
     "user_tz": -120
    },
    "id": "_rhtQCxJVooo"
   },
   "outputs": [],
   "source": [
    "#p\n"
   ]
  },
  {
   "cell_type": "code",
   "execution_count": 6,
   "metadata": {
    "executionInfo": {
     "elapsed": 22,
     "status": "ok",
     "timestamp": 1665933025492,
     "user": {
      "displayName": "Kévin Duranty",
      "userId": "15131849859703425204"
     },
     "user_tz": -120
    },
    "id": "Nuy7DxBmVooo"
   },
   "outputs": [],
   "source": [
    "# a\n"
   ]
  },
  {
   "cell_type": "markdown",
   "metadata": {
    "id": "riP1tCc0Vooo"
   },
   "source": [
    "## 2.6 Affichez les attributs du premier lien.\n",
    "Récupérer dans une liste l'ensemble des attributs `href`."
   ]
  },
  {
   "cell_type": "code",
   "execution_count": 6,
   "metadata": {
    "executionInfo": {
     "elapsed": 22,
     "status": "ok",
     "timestamp": 1665933025492,
     "user": {
      "displayName": "Kévin Duranty",
      "userId": "15131849859703425204"
     },
     "user_tz": -120
    },
    "id": "RS4j_95WVoop"
   },
   "outputs": [],
   "source": []
  },
  {
   "cell_type": "code",
   "execution_count": 6,
   "metadata": {
    "executionInfo": {
     "elapsed": 21,
     "status": "ok",
     "timestamp": 1665933025492,
     "user": {
      "displayName": "Kévin Duranty",
      "userId": "15131849859703425204"
     },
     "user_tz": -120
    },
    "id": "Z1-zKS67Voop"
   },
   "outputs": [],
   "source": []
  },
  {
   "cell_type": "markdown",
   "metadata": {
    "id": "LefyMKXbVoop"
   },
   "source": [
    "# Partie 2 - Collecte de données du [Blog du Modérateur](https://www.blogdumoderateur.com/)\n",
    "\n",
    "<img src='https://f.hellowork.com/blogdumoderateur/2017/05/blogdumoderateur-og.png'>\n",
    "\n",
    "Ce deuxième exercice a pour but de collecter les articles du site le Blog Du Modérateur. Pour cela nous utiliserons la bibliothèque BeautifulSoup afin de scraper les éléments suivants présents sur la page d'accueil : \n",
    "\n",
    "- le nom de l’article,\n",
    "- le lien de l’image,\n",
    "- le lien de l’article\n",
    "- la catégorie de l’article\n",
    "- la date de publication de l’article\n",
    "\n",
    "Nous créerons un script qui automatisera la collecte des données en prenant en compte les exceptions et qui retournera un fichier json contenant l'ensemble de nos données."
   ]
  },
  {
   "cell_type": "markdown",
   "metadata": {
    "id": "xHSiVIRRVoop"
   },
   "source": [
    "## 2.7 Faites une requête au site du Blog du Modérateur puis instanciez une variable `soup`.\n",
    "\n",
    "Utilisez l'adresse url suivante : `https://www.blogdumoderateur.com/`"
   ]
  },
  {
   "cell_type": "code",
   "execution_count": 20,
   "metadata": {
    "executionInfo": {
     "elapsed": 21,
     "status": "ok",
     "timestamp": 1665933025492,
     "user": {
      "displayName": "Kévin Duranty",
      "userId": "15131849859703425204"
     },
     "user_tz": -120
    },
    "id": "nrHP0MX9Voop",
    "ExecuteTime": {
     "start_time": "2023-04-18T12:57:27.228801Z",
     "end_time": "2023-04-18T12:57:27.403648Z"
    }
   },
   "outputs": [],
   "source": [
    "# les imports\n",
    "import pandas as pd\n",
    "from pprint import pprint\n",
    "import requests\n",
    "from bs4 import BeautifulSoup\n",
    "\n",
    "url = 'https://www.blogdumoderateur.com/'\n",
    "response = requests.get(url)\n",
    "soup = BeautifulSoup(response.content)\n",
    "#soup.prettify()"
   ]
  },
  {
   "cell_type": "markdown",
   "metadata": {
    "id": "smnCvJ2MVooq"
   },
   "source": [
    "## 2.8 Collectez dans une variable `article` les articles présents sur la page d'acceuil."
   ]
  },
  {
   "cell_type": "code",
   "execution_count": 54,
   "metadata": {
    "executionInfo": {
     "elapsed": 21,
     "status": "ok",
     "timestamp": 1665933025492,
     "user": {
      "displayName": "Kévin Duranty",
      "userId": "15131849859703425204"
     },
     "user_tz": -120
    },
    "id": "2YFH2_VXVooq",
    "ExecuteTime": {
     "start_time": "2023-04-18T16:00:50.494365Z",
     "end_time": "2023-04-18T16:00:50.496903Z"
    }
   },
   "outputs": [
    {
     "data": {
      "text/plain": "[<h3 class=\"entry-title\">Le podcast en France : découvrez la cartographie 2023 des principaux acteurs</h3>,\n <h3 class=\"entry-title\">5 formations pour maîtriser les réseaux informatiques</h3>,\n <h3 class=\"entry-title\">Comment utiliser CapCut : 15 astuces pour réussir vos montages vidéo</h3>,\n <h3 class=\"entry-title\">Web3 : définition, évolution, usages, tout savoir en 2023</h3>,\n <h3 class=\"entry-title\">Ok Google : comment bien utiliser l’assistant vocal</h3>,\n <h3 class=\"entry-title\">YouTube Shorts : les critères qui favorisent les performances des vidéos</h3>,\n <h3 class=\"entry-title\">Nouveautés Instagram Reels : éditeur vidéo, recherche de tendances, statistiques…</h3>,\n <h3 class=\"entry-title\">Google travaille sur un nouveau moteur de recherche basé sur l’IA : ce qui pourrait changer</h3>,\n <h3 class=\"entry-title\">ChatGPT : notre guide pour créer les meilleurs prompts</h3>,\n <h3 class=\"entry-title\">Comment créer un rétroplanning : étapes à suivre et outils</h3>,\n <h3 class=\"entry-title\">ChatGPT : la CNIL ouvre une enquête en France après plusieurs plaintes</h3>,\n <h3 class=\"entry-title\">Premiere Pro lance le montage vidéo à partir d’un simple texte grâce à l’IA</h3>,\n <h3 class=\"entry-title\">Twitter : comment passer son compte en privé pour protéger ses tweets</h3>,\n <h3 class=\"entry-title\">Communication digitale : les compétences clés pour répondre aux besoins des entreprises</h3>,\n <h3 class=\"entry-title\">Email : tout savoir sur les protocoles de messagerie SMTP, IMAP, POP…</h3>,\n <h3 class=\"entry-title h3bis\">E-commerce : 5 points clés pour lancer son site à l’international</h3>,\n <h3 class=\"entry-title h3bis\">Étude : quels sont les métiers de la tech les mieux payés en 2023 ?</h3>,\n <h3 class=\"entry-title h3bis\">Webinar : maîtriser les compétences du marketing et de la transformation digitale avec l’EFAP Bordeaux</h3>,\n <h3 class=\"entry-title h3bis\">Comment évolue le paysage social media en 2023 : le décryptage de Jean-Noël Buisson</h3>,\n <h3 class=\"entry-title h3bis\">Comment utiliser Midjourney : le guide pour générer de belles images</h3>,\n <h3 class=\"entry-title h3bis\">Webinar : développer son employabilité en marketing et transformation digitale dans la santé</h3>,\n <h3 class=\"h3bis entry-title color-w pt-2\">Marketing : 5 outils pour surveiller vos concurrents</h3>,\n <h3 class=\"h3bis entry-title color-w pt-2\">Les 12 réseaux sociaux les plus utilisés en 2022</h3>,\n <h3 class=\"h3bis entry-title color-w pt-2\">WordPress 5.9 : la liste des nouveautés</h3>,\n <h3 class=\"h3bis entry-title color-w pt-2\">Community management : 12 marques inspirantes à suivre sur Twitter</h3>,\n <h3 class=\"h3bis entry-title color-w pt-2\">10 mots du digital à connaître en 2022</h3>,\n <h3 class=\"h3bis entry-title color-w pt-2\">Phishing : le top 10 des marques usurpées par les hackers</h3>,\n <h3 class=\"entry-title h3bis\">ChatGPT, Bing, Bard : l’IA générative au cœur de l’actu du mois de mars</h3>,\n <h3 class=\"entry-title h3bis\">Mapping des startups de l’IA en France : évolution, secteurs, défis à venir</h3>,\n <h3 class=\"entry-title h3bis\">Tout savoir sur ChatGPT : accès, cas d’usages, limites, paramètres, SEO, détection, alternatives…</h3>,\n <h3 class=\"entry-title h3bis\">Comment utiliser ChatGPT : 10 exemples de questions à poser</h3>,\n <h3 class=\"entry-title h3bis\">Parts de marché des navigateurs web en 2023 : monde, France, mobile, desktop…</h3>,\n <h3 class=\"entry-title h3bis\">Parts de marché des moteurs de recherche en 2023 : monde, France, mobile, desktop…</h3>,\n <h3 class=\"entry-title h3bis\">Android : comment sauvegarder ses données, photos, SMS et contacts</h3>,\n <h3 class=\"entry-title h3bis\">Comment libérer de l’espace de stockage sur son téléphone Android</h3>,\n <h3 class=\"entry-title h3bis\">7 événements web à ne pas manquer en mars 2023</h3>,\n <h3 class=\"entry-title h3bis\">5 podcasts pour les professionnels du marketing</h3>,\n <h3 class=\"entry-title h3bis\">Pyramide de Maslow : un outil efficace pour hiérarchiser les besoins de vos clients</h3>,\n <h3 class=\"entry-title h3bis\">Baisse des ventes de PC : quelles sont les marques les plus touchées ?</h3>,\n <h3 class=\"entry-title h3bis\">Jeux concours sur Instagram : 10 bonnes pratiques à suivre en 2023</h3>,\n <h3 class=\"entry-title h3bis\">Instagram : les 5 dernières nouveautés qu’il ne fallait pas manquer</h3>,\n <h3 class=\"entry-title h3bis\">La taille des images sur Instagram</h3>,\n <h3 class=\"entry-title h3bis\">Instagram : comment bloquer les invitations par message</h3>,\n <h3 class=\"entry-title h3bis\">Comment choisir un nom de domaine pour son site web : le guide complet</h3>,\n <h3 class=\"entry-title h3bis\">Guide : les droits et devoirs des influenceurs</h3>,\n <h3 class=\"entry-title h3bis\">Deepfake : définition, usages et risques</h3>,\n <h3 class=\"entry-title h3bis\">Comment scanner et utiliser un QR Code sur Android et iPhone</h3>,\n <h3 class=\"entry-title h3bis\">Étude TikTok 2023 : les meilleurs jours et heures pour poster vos vidéos</h3>,\n <h3 class=\"entry-title h3bis\">Facebook chute, Instagram résiste et TikTok perce auprès des marques : notre bilan de l’année 2022</h3>,\n <h3 class=\"entry-title h3bis\">Tendances TikTok : à quoi s’attendre en 2022 ?</h3>,\n <h3 class=\"entry-title h3bis\">TikTok : les meilleures vidéos de 2021</h3>]"
     },
     "execution_count": 54,
     "metadata": {},
     "output_type": "execute_result"
    }
   ],
   "source": [
    "\n",
    "\n",
    "article = soup.findAll('h3', class_= 'entry-title')\n",
    "\n",
    "article\n",
    "#type(article)\n",
    "#print(liste_sans_strong)\n",
    "#new_list = [item.replace('\\xa0', ' ') for item in liste_sans_strong]\n",
    "#print(new_list)\n",
    "#print(new_list)\n",
    "\n",
    "for ar in article:\n",
    "    #print(ar.get_text())\n",
    "#len(article)"
   ]
  },
  {
   "cell_type": "markdown",
   "metadata": {
    "id": "qwrxg__CVooq"
   },
   "source": [
    "## 2.9 Récupérez le `nom` du premier article."
   ]
  },
  {
   "cell_type": "code",
   "execution_count": 28,
   "metadata": {
    "executionInfo": {
     "elapsed": 22,
     "status": "ok",
     "timestamp": 1665933025493,
     "user": {
      "displayName": "Kévin Duranty",
      "userId": "15131849859703425204"
     },
     "user_tz": -120
    },
    "id": "pokUJvlaVooq",
    "ExecuteTime": {
     "start_time": "2023-04-18T13:07:50.481289Z",
     "end_time": "2023-04-18T13:07:50.484066Z"
    }
   },
   "outputs": [],
   "source": [
    "nom = soup.find(\n",
    "    lambda tag: tag.name == \"div\"\n",
    "                and tag.get(\"class\", []) == [\"aria-label'\"]\n",
    ")\n",
    "\n",
    "dis_price = article.find(\"div\", class_=\"aria-label\")\n",
    "#nom = soup.find('div', attrs = {'div': 'aria-label'})\n",
    "#nom = soup.select('.aria-label')\n",
    "#nom\n",
    "dis_price\n"
   ]
  },
  {
   "cell_type": "code",
   "execution_count": 6,
   "metadata": {
    "executionInfo": {
     "elapsed": 22,
     "status": "ok",
     "timestamp": 1665933025493,
     "user": {
      "displayName": "Kévin Duranty",
      "userId": "15131849859703425204"
     },
     "user_tz": -120
    },
    "id": "IZbpC6lVVooq"
   },
   "outputs": [],
   "source": []
  },
  {
   "cell_type": "code",
   "execution_count": 6,
   "metadata": {
    "executionInfo": {
     "elapsed": 21,
     "status": "ok",
     "timestamp": 1665933025493,
     "user": {
      "displayName": "Kévin Duranty",
      "userId": "15131849859703425204"
     },
     "user_tz": -120
    },
    "id": "vFzJ_QrYVooq"
   },
   "outputs": [],
   "source": []
  },
  {
   "cell_type": "markdown",
   "metadata": {
    "id": "Vdb9A_N6Vooq"
   },
   "source": [
    "##  2.10 Récupérez le `lien de l'image` du premier article."
   ]
  },
  {
   "cell_type": "code",
   "execution_count": 84,
   "metadata": {
    "executionInfo": {
     "elapsed": 21,
     "status": "ok",
     "timestamp": 1665933025493,
     "user": {
      "displayName": "Kévin Duranty",
      "userId": "15131849859703425204"
     },
     "user_tz": -120
    },
    "id": "JCm-88X-Vooq",
    "ExecuteTime": {
     "start_time": "2023-04-18T16:32:20.910002Z",
     "end_time": "2023-04-18T16:32:20.914394Z"
    }
   },
   "outputs": [
    {
     "name": "stdout",
     "output_type": "stream",
     "text": [
      "https://f.hellowork.com/blogdumoderateur/2023/04/cartographie-podcasts-2023-276x144.jpg\n",
      "img not found\n",
      "https://f.hellowork.com/blogdumoderateur/2023/04/formations-reseaux-informatiques-276x144.jpeg\n",
      "img not found\n",
      "https://f.hellowork.com/blogdumoderateur/2023/04/capcut-application-montage-video-276x144.jpg\n",
      "img not found\n",
      "https://f.hellowork.com/blogdumoderateur/2023/04/web3-evolution-2023-276x144.jpg\n",
      "img not found\n",
      "https://f.hellowork.com/blogdumoderateur/2023/04/Assistant-Google-276x144.jpg\n",
      "img not found\n",
      "https://f.hellowork.com/blogdumoderateur/2023/04/Etude-Youtube-Shorts-4-276x144.jpg\n",
      "img not found\n",
      "https://f.hellowork.com/blogdumoderateur/2023/04/Editeur-Video-Instagram-Reels-276x144.jpg\n",
      "img not found\n",
      "https://f.hellowork.com/blogdumoderateur/2023/04/google-nouveau-moteur-de-recherche-magi-276x144.jpeg\n",
      "img not found\n",
      "https://f.hellowork.com/blogdumoderateur/2023/04/ChatGPT-prompt-requete-276x144.jpg\n",
      "img not found\n",
      "https://f.hellowork.com/blogdumoderateur/2023/04/retroplanning-definition-etapes-276x144.jpg\n",
      "img not found\n",
      "https://f.hellowork.com/blogdumoderateur/2023/04/ChatGPT-5-Plaintes-France-276x144.jpg\n",
      "img not found\n",
      "https://f.hellowork.com/blogdumoderateur/2023/04/Adobe-Premiere-Pro-Montage-Texte-276x144.jpg\n",
      "img not found\n",
      "https://f.hellowork.com/blogdumoderateur/2023/03/Twitter-compte-prive-tweets-proteges-276x144.jpg\n",
      "img not found\n",
      "https://f.hellowork.com/blogdumoderateur/2023/04/communication-digitale-competences-iim-276x144.jpg\n",
      "img not found\n",
      "https://f.hellowork.com/blogdumoderateur/2023/04/protocoles-messagerie-smtp-imap-pop-276x144.jpg\n",
      "img not found\n"
     ]
    }
   ],
   "source": [
    "images = soup.find_all('img', class_ ='attachment-thumbnail')\n",
    "#image['data-lazy-src']\n",
    "#src = []\n",
    "for image in images:\n",
    "    try:\n",
    "        print(image['data-lazy-src'])\n",
    "    except:\n",
    "        print('img not found')\n",
    "\n",
    "#image\n"
   ]
  },
  {
   "cell_type": "code",
   "execution_count": 6,
   "metadata": {
    "executionInfo": {
     "elapsed": 21,
     "status": "ok",
     "timestamp": 1665933025493,
     "user": {
      "displayName": "Kévin Duranty",
      "userId": "15131849859703425204"
     },
     "user_tz": -120
    },
    "id": "VopNCRQpVooq"
   },
   "outputs": [],
   "source": []
  },
  {
   "cell_type": "markdown",
   "metadata": {
    "id": "FeHvWfotVooq"
   },
   "source": [
    "## 2.11 Récupérez le `lien` du premier article."
   ]
  },
  {
   "cell_type": "code",
   "execution_count": 119,
   "metadata": {
    "executionInfo": {
     "elapsed": 20,
     "status": "ok",
     "timestamp": 1665933025493,
     "user": {
      "displayName": "Kévin Duranty",
      "userId": "15131849859703425204"
     },
     "user_tz": -120
    },
    "id": "zUGNPiHtVoor",
    "ExecuteTime": {
     "start_time": "2023-04-18T17:05:21.595084Z",
     "end_time": "2023-04-18T17:05:21.601274Z"
    }
   },
   "outputs": [
    {
     "name": "stdout",
     "output_type": "stream",
     "text": [
      "https://www.blogdumoderateur.com/podcast-france-decouvrez-cartographie-2023-principaux-acteurs/\n",
      "https://www.blogdumoderateur.com/selection-formation-reseaux-informatiques-148/\n",
      "https://www.blogdumoderateur.com/capcut-astuces/\n",
      "https://www.blogdumoderateur.com/web3-definition-evolution-usages-2023/\n",
      "https://www.blogdumoderateur.com/ok-google-comment-utiliser-assistant-vocal/\n",
      "https://www.blogdumoderateur.com/youtube-shorts-criteres-favorisent-performances-videos/\n",
      "https://www.blogdumoderateur.com/nouveautes-instagram-reels-editeur-video-recherche-tendances-statistiques/\n",
      "https://www.blogdumoderateur.com/google-travaille-nouveau-moteur-de-recherche-ia/\n",
      "https://www.blogdumoderateur.com/chatgpt-guide-creer-meilleurs-prompts/\n",
      "https://www.blogdumoderateur.com/comment-creer-retroplanning-etapes-outils/\n",
      "https://www.blogdumoderateur.com/chatgpt-cnil-ouvre-enquete-plaintes-france/\n",
      "https://www.blogdumoderateur.com/premiere-pro-lance-montage-video-a-partir-de-texte/\n",
      "https://www.blogdumoderateur.com/twitter-compte-prive-proteger-tweets/\n",
      "https://www.blogdumoderateur.com/communication-digitale-competences-cles-repondre-besoins-entreprises/\n",
      "https://www.blogdumoderateur.com/email-protocoles-messagerie-smtp-imap-pop/\n",
      "not found\n",
      "not found\n",
      "not found\n",
      "not found\n",
      "not found\n",
      "not found\n",
      "not found\n",
      "not found\n",
      "not found\n",
      "not found\n",
      "not found\n",
      "not found\n",
      "not found\n",
      "not found\n",
      "not found\n",
      "not found\n",
      "not found\n",
      "not found\n",
      "not found\n",
      "not found\n",
      "not found\n",
      "not found\n",
      "not found\n",
      "not found\n",
      "not found\n",
      "not found\n",
      "not found\n",
      "not found\n",
      "not found\n",
      "not found\n"
     ]
    },
    {
     "data": {
      "text/plain": "15"
     },
     "execution_count": 119,
     "metadata": {},
     "output_type": "execute_result"
    }
   ],
   "source": [
    "#soup.findAll(True, {'class':['class1', 'class2']})\n",
    "lien = soup.find_all('header', { 'class': ['entry-header pt-2']})\n",
    "links = []\n",
    "for link in lien:\n",
    "   # links.append(link.find('a')['href'])\n",
    "   try:\n",
    "     print(link.find('a')['href'])\n",
    "     links.append(link.find('a')['href'])\n",
    "   except:\n",
    "       print('not found')\n",
    "\n",
    "len(links)\n"
   ]
  },
  {
   "cell_type": "code",
   "execution_count": 109,
   "metadata": {
    "executionInfo": {
     "elapsed": 21,
     "status": "ok",
     "timestamp": 1665933025494,
     "user": {
      "displayName": "Kévin Duranty",
      "userId": "15131849859703425204"
     },
     "user_tz": -120
    },
    "id": "7VkICWz7Voor",
    "ExecuteTime": {
     "start_time": "2023-04-18T16:59:13.727376Z",
     "end_time": "2023-04-18T16:59:13.735080Z"
    }
   },
   "outputs": [],
   "source": []
  },
  {
   "cell_type": "markdown",
   "metadata": {
    "id": "pzKPGnlUVoor"
   },
   "source": [
    "## 2.12 Récupérez la `catégorie` du premier article."
   ]
  },
  {
   "cell_type": "code",
   "execution_count": 130,
   "metadata": {
    "executionInfo": {
     "elapsed": 21,
     "status": "ok",
     "timestamp": 1665933025494,
     "user": {
      "displayName": "Kévin Duranty",
      "userId": "15131849859703425204"
     },
     "user_tz": -120
    },
    "id": "2DOBOvIWVoor",
    "ExecuteTime": {
     "start_time": "2023-04-18T17:20:42.360331Z",
     "end_time": "2023-04-18T17:20:42.365711Z"
    }
   },
   "outputs": [
    {
     "data": {
      "text/plain": "['Stratégie digitale',\n 'Formation',\n 'Vidéo',\n 'Tendances',\n 'Google',\n 'YouTube',\n 'Instagram',\n 'IA',\n 'IA',\n 'Gestion de projet',\n 'RGPD',\n 'Adobe',\n 'Twitter',\n 'Formation',\n 'Messagerie']"
     },
     "execution_count": 130,
     "metadata": {},
     "output_type": "execute_result"
    }
   ],
   "source": [
    "category = soup.find_all('span', class_ = 'favtag color-b')\n",
    "categories = []\n",
    "for cat in category:\n",
    "    categories.append(cat.get_text())\n",
    "\n",
    "categories"
   ]
  },
  {
   "cell_type": "markdown",
   "metadata": {
    "id": "NFFmWxztVoor"
   },
   "source": [
    "## 2.13 Récupérez la `date de publication` du premier article."
   ]
  },
  {
   "cell_type": "code",
   "execution_count": 129,
   "metadata": {
    "executionInfo": {
     "elapsed": 21,
     "status": "ok",
     "timestamp": 1665933025494,
     "user": {
      "displayName": "Kévin Duranty",
      "userId": "15131849859703425204"
     },
     "user_tz": -120
    },
    "id": "LIYUA14pVoor",
    "ExecuteTime": {
     "start_time": "2023-04-18T17:17:51.772572Z",
     "end_time": "2023-04-18T17:17:51.780531Z"
    }
   },
   "outputs": [
    {
     "data": {
      "text/plain": "'18 avril18 avril18 avril18 avril18 avril18 avril17 avril17 avril17 avril17 avril17 avril14 avril14 avril14 avril14 avril14 avril13 avril12 avril12 avril11 avril7 avril7 avril30 mars29 mars23 janvier13 janvier6 avril8 mars4 juillet1 juillet28 février20 janvier12 avril11 avril6 avril27 février10 juin8 février6 avril28 mars6 décembre30 juillet8 mars23 novembre16 décembre7 décembre'"
     },
     "execution_count": 129,
     "metadata": {},
     "output_type": "execute_result"
    }
   ],
   "source": [
    "date = soup.find('time', class_ = 'entry-date published updated')\n",
    "date.get_text()"
   ]
  },
  {
   "cell_type": "code",
   "execution_count": 128,
   "metadata": {
    "executionInfo": {
     "elapsed": 21,
     "status": "ok",
     "timestamp": 1665933025494,
     "user": {
      "displayName": "Kévin Duranty",
      "userId": "15131849859703425204"
     },
     "user_tz": -120
    },
    "id": "xRLAs3saVoor",
    "ExecuteTime": {
     "start_time": "2023-04-18T17:17:42.772549Z",
     "end_time": "2023-04-18T17:17:42.781919Z"
    }
   },
   "outputs": [
    {
     "data": {
      "text/plain": "['18 avril',\n '18 avril',\n '18 avril',\n '18 avril',\n '18 avril',\n '18 avril',\n '17 avril',\n '17 avril',\n '17 avril',\n '17 avril',\n '17 avril',\n '14 avril',\n '14 avril',\n '14 avril',\n '14 avril',\n '14 avril',\n '13 avril',\n '12 avril',\n '12 avril',\n '11 avril',\n '7 avril',\n '7 avril',\n '30 mars',\n '29 mars',\n '23 janvier',\n '13 janvier',\n '6 avril',\n '8 mars',\n '4 juillet',\n '1 juillet',\n '28 février',\n '20 janvier',\n '12 avril',\n '11 avril',\n '6 avril',\n '27 février',\n '10 juin',\n '8 février',\n '6 avril',\n '28 mars',\n '6 décembre',\n '30 juillet',\n '8 mars',\n '23 novembre',\n '16 décembre',\n '7 décembre']"
     },
     "execution_count": 128,
     "metadata": {},
     "output_type": "execute_result"
    }
   ],
   "source": [
    "dates = soup.find('time', class_ = 'entry-date published updated')\n",
    "dateTime = []\n",
    "for d in dates:\n",
    "    dateTime.append(d.get_text())\n",
    "\n",
    "dateTime"
   ]
  },
  {
   "cell_type": "code",
   "execution_count": 6,
   "metadata": {
    "executionInfo": {
     "elapsed": 20,
     "status": "ok",
     "timestamp": 1665933025494,
     "user": {
      "displayName": "Kévin Duranty",
      "userId": "15131849859703425204"
     },
     "user_tz": -120
    },
    "id": "3DAgoh6dVoor"
   },
   "outputs": [],
   "source": []
  },
  {
   "cell_type": "code",
   "execution_count": 6,
   "metadata": {
    "executionInfo": {
     "elapsed": 20,
     "status": "ok",
     "timestamp": 1665933025494,
     "user": {
      "displayName": "Kévin Duranty",
      "userId": "15131849859703425204"
     },
     "user_tz": -120
    },
    "id": "2JW6atTUVoor"
   },
   "outputs": [],
   "source": []
  },
  {
   "cell_type": "markdown",
   "metadata": {
    "id": "SsOqtQLQVoor"
   },
   "source": [
    "# Créez une fonction `scraping_bdm` qui collecte l'ensemble des données des articles présent sur la page d'acceuil et qui renvoi un fichier au format `json`."
   ]
  },
  {
   "cell_type": "code",
   "execution_count": 137,
   "metadata": {
    "executionInfo": {
     "elapsed": 20,
     "status": "ok",
     "timestamp": 1665933025494,
     "user": {
      "displayName": "Kévin Duranty",
      "userId": "15131849859703425204"
     },
     "user_tz": -120
    },
    "id": "HeUUiUXuVoor",
    "ExecuteTime": {
     "start_time": "2023-04-18T23:38:17.781268Z",
     "end_time": "2023-04-18T23:38:17.792200Z"
    }
   },
   "outputs": [],
   "source": [
    "# date = dateTime\n",
    "# categories = categoris\n",
    "# links = liens\n",
    "#df1.to_excel(\"output.xlsx\")\n",
    "# Load pandas as pd\n",
    "import pandas as pd\n",
    "def export(dateTime, categories,links):\n",
    "    colones = {'date de publication': dateTime, 'categories d\\'article':categories, 'liens de l\\'article' : links}\n",
    "    df = pd.DataFrame(colones, columns=['a', 'b', 'c'])\n",
    "    data = df.to_excel(\"dfArticles.xlsx\")\n",
    "\n",
    "print(excel)\n",
    "\n",
    "ddf= export(dateTime,categories,links)\n",
    "ddf"
   ]
  },
  {
   "cell_type": "code",
   "execution_count": 6,
   "metadata": {
    "executionInfo": {
     "elapsed": 21,
     "status": "ok",
     "timestamp": 1665933025495,
     "user": {
      "displayName": "Kévin Duranty",
      "userId": "15131849859703425204"
     },
     "user_tz": -120
    },
    "id": "BPaZZyrRVoos"
   },
   "outputs": [],
   "source": []
  },
  {
   "cell_type": "code",
   "execution_count": 6,
   "metadata": {
    "executionInfo": {
     "elapsed": 21,
     "status": "ok",
     "timestamp": 1665933025495,
     "user": {
      "displayName": "Kévin Duranty",
      "userId": "15131849859703425204"
     },
     "user_tz": -120
    },
    "id": "-EJnTUyqVoos"
   },
   "outputs": [],
   "source": []
  },
  {
   "cell_type": "code",
   "execution_count": 6,
   "metadata": {
    "executionInfo": {
     "elapsed": 21,
     "status": "ok",
     "timestamp": 1665933025495,
     "user": {
      "displayName": "Kévin Duranty",
      "userId": "15131849859703425204"
     },
     "user_tz": -120
    },
    "id": "aJLx0ZgkVoos"
   },
   "outputs": [],
   "source": []
  },
  {
   "cell_type": "markdown",
   "metadata": {
    "id": "ZJGGk08rVoos"
   },
   "source": [
    "# Partie 3 - Collecte de données de Doctolib - Bonus\n",
    "\n",
    "\n",
    "<img src='https://upload.wikimedia.org/wikipedia/fr/thumb/7/7f/Logo-doctolib.svg/640px-Logo-doctolib.svg.png'>\n",
    "\n",
    "\n",
    "L'objectif est de collecter les données des dentistes référencés sur le sites de Doctolib exerçant à Paris à partir de l'adresse suivante : `https://www.doctolib.fr/dentiste/paris`.\n",
    "\n",
    "Les informations que nous souhaitons collecter sont les suivantes :\n",
    "- le nom du praticien\n",
    "- la profession du praticien\n",
    "- l'adresse du praticien\n",
    "- la ville du praticien\n",
    "- l'image de la fiche Doctolib du praticien"
   ]
  },
  {
   "cell_type": "code",
   "execution_count": 6,
   "metadata": {
    "executionInfo": {
     "elapsed": 21,
     "status": "ok",
     "timestamp": 1665933025495,
     "user": {
      "displayName": "Kévin Duranty",
      "userId": "15131849859703425204"
     },
     "user_tz": -120
    },
    "id": "V6Txf7INVoos"
   },
   "outputs": [],
   "source": []
  },
  {
   "cell_type": "code",
   "execution_count": 6,
   "metadata": {
    "executionInfo": {
     "elapsed": 20,
     "status": "ok",
     "timestamp": 1665933025495,
     "user": {
      "displayName": "Kévin Duranty",
      "userId": "15131849859703425204"
     },
     "user_tz": -120
    },
    "id": "SKm3nV1-Voos",
    "scrolled": false
   },
   "outputs": [],
   "source": []
  },
  {
   "cell_type": "code",
   "execution_count": 6,
   "metadata": {
    "executionInfo": {
     "elapsed": 20,
     "status": "ok",
     "timestamp": 1665933025495,
     "user": {
      "displayName": "Kévin Duranty",
      "userId": "15131849859703425204"
     },
     "user_tz": -120
    },
    "id": "3WxpAcIdVoos"
   },
   "outputs": [],
   "source": []
  },
  {
   "cell_type": "code",
   "execution_count": 6,
   "metadata": {
    "executionInfo": {
     "elapsed": 20,
     "status": "ok",
     "timestamp": 1665933025495,
     "user": {
      "displayName": "Kévin Duranty",
      "userId": "15131849859703425204"
     },
     "user_tz": -120
    },
    "id": "G_KPKSBwVoos"
   },
   "outputs": [],
   "source": []
  },
  {
   "cell_type": "code",
   "execution_count": 6,
   "metadata": {
    "executionInfo": {
     "elapsed": 21,
     "status": "ok",
     "timestamp": 1665933025496,
     "user": {
      "displayName": "Kévin Duranty",
      "userId": "15131849859703425204"
     },
     "user_tz": -120
    },
    "id": "E8AGhDPbVoos"
   },
   "outputs": [],
   "source": []
  },
  {
   "cell_type": "code",
   "execution_count": 6,
   "metadata": {
    "executionInfo": {
     "elapsed": 21,
     "status": "ok",
     "timestamp": 1665933025496,
     "user": {
      "displayName": "Kévin Duranty",
      "userId": "15131849859703425204"
     },
     "user_tz": -120
    },
    "id": "ZFKx5Y_1Voos"
   },
   "outputs": [],
   "source": []
  }
 ],
 "metadata": {
  "colab": {
   "collapsed_sections": [],
   "provenance": []
  },
  "kernelspec": {
   "display_name": "Python 3 (ipykernel)",
   "language": "python",
   "name": "python3"
  },
  "language_info": {
   "codemirror_mode": {
    "name": "ipython",
    "version": 3
   },
   "file_extension": ".py",
   "mimetype": "text/x-python",
   "name": "python",
   "nbconvert_exporter": "python",
   "pygments_lexer": "ipython3",
   "version": "3.7.6"
  }
 },
 "nbformat": 4,
 "nbformat_minor": 1
}
