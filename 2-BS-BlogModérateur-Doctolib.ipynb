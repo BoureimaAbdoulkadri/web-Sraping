{
 "cells": [
  {
   "cell_type": "markdown",
   "metadata": {
    "id": "qWUK25s9YosK"
   },
   "source": [
    "# 2. Web Scraping - BeautifulSoup\n",
    "\n",
    "<img src='https://xn--kvin-duranty-beb.fr/wp-content/uploads/2022/10/Web-Scraping-_-IPSSI-PRS-1.png'>\n",
    "\n",
    "Dans cet exercice, nous utiliserons la bibliothèque BeautifulSoup afin de collecter les données des sites internet suivants :\n",
    "\n",
    "- Partie 1 : [TheProject.html](http://info.cern.ch/hypertext/WWW/TheProject.html)\n",
    "Nous reprenons le site scrapé  précédement via la bibliothèque `requests`, l'objectif est de comprendre le fonctionnement de la bibliothèque `BeautifulSoup`.\n",
    "\n",
    "\n",
    "- Partie 2 : [Blog Du Modérateur](https://www.blogdumoderateur.com/)\n",
    "L'objectif sera de collecter la liste des articles présents sur la page d'accueil du site.\n",
    "\n",
    "- Partie 3 : [Doctolib](https://www.doctolib.fr/dentiste/paris)\n",
    "Nous verrons que certains sites ont une structure html/css qui entrave la collecte de données, heureusement d'autres bibliothèques existent et permettent de contourner ces restrictions (Selenium).\n",
    "\n",
    "\n",
    "\n",
    "# Partie 1 - [TheProject.html](http://info.cern.ch/hypertext/WWW/TheProject.html)\n",
    "\n",
    "## 2.1 Installez la bibliothèque BeautifulSoup.\n",
    "Utilitisez la commande suivante dans votre terminal :  `pip install BeautifulSoup`"
   ]
  },
  {
   "cell_type": "markdown",
   "metadata": {
    "id": "4Cc8XRxOVooj"
   },
   "source": [
    "## 2.2 Importez le package `BeautifulSoup` à partir de la bibliothèque `bs4`.\n",
    "Importez également la bibliothèque `request`"
   ]
  },
  {
   "cell_type": "code",
   "execution_count": null,
   "metadata": {
    "executionInfo": {
     "elapsed": 25,
     "status": "ok",
     "timestamp": 1665933025490,
     "user": {
      "displayName": "Kévin Duranty",
      "userId": "15131849859703425204"
     },
     "user_tz": -120
    },
    "id": "13pqysyRVooj"
   },
   "outputs": [],
   "source": []
  },
  {
   "cell_type": "markdown",
   "metadata": {
    "id": "eto09NekVook"
   },
   "source": [
    "## 2.3 Faites une requête à l'adresse [TheProject.html](http://info.cern.ch/hypertext/WWW/TheProject.html) via la bibliothèque `requests`.\n",
    "Stockez la réponse dans une variable `response` et affichez le type de cette variable."
   ]
  },
  {
   "cell_type": "code",
   "execution_count": null,
   "metadata": {
    "executionInfo": {
     "elapsed": 23,
     "status": "ok",
     "timestamp": 1665933025490,
     "user": {
      "displayName": "Kévin Duranty",
      "userId": "15131849859703425204"
     },
     "user_tz": -120
    },
    "id": "ECJFWnZNVook"
   },
   "outputs": [],
   "source": []
  },
  {
   "cell_type": "markdown",
   "metadata": {
    "id": "P-g-pE7qVool"
   },
   "source": [
    "## 2.4 Instanciez une variable soup à partir du module `BeautifulSoup` et de la variable `response.text`.\n",
    "\n",
    "Affichez le type de cette variable `soup` ainsi que son instance `text`"
   ]
  },
  {
   "cell_type": "code",
   "execution_count": null,
   "metadata": {
    "executionInfo": {
     "elapsed": 23,
     "status": "ok",
     "timestamp": 1665933025490,
     "user": {
      "displayName": "Kévin Duranty",
      "userId": "15131849859703425204"
     },
     "user_tz": -120
    },
    "id": "1jxBEYBcVool"
   },
   "outputs": [],
   "source": []
  },
  {
   "cell_type": "code",
   "execution_count": null,
   "metadata": {
    "executionInfo": {
     "elapsed": 23,
     "status": "ok",
     "timestamp": 1665933025491,
     "user": {
      "displayName": "Kévin Duranty",
      "userId": "15131849859703425204"
     },
     "user_tz": -120
    },
    "id": "Ly71Km3YVoom"
   },
   "outputs": [],
   "source": []
  },
  {
   "cell_type": "markdown",
   "metadata": {
    "id": "w_YFJERqVoom"
   },
   "source": [
    "## 2.5 Utilisez la méthode `find_all` afin de trouver les balises `header`,`body`, `title`, `h1`, `p` et `a`."
   ]
  },
  {
   "cell_type": "code",
   "execution_count": 1,
   "metadata": {
    "executionInfo": {
     "elapsed": 23,
     "status": "ok",
     "timestamp": 1665933025491,
     "user": {
      "displayName": "Kévin Duranty",
      "userId": "15131849859703425204"
     },
     "user_tz": -120
    },
    "id": "zlfUFsBqVoon"
   },
   "outputs": [],
   "source": [
    "# header\n"
   ]
  },
  {
   "cell_type": "code",
   "execution_count": 2,
   "metadata": {
    "executionInfo": {
     "elapsed": 22,
     "status": "ok",
     "timestamp": 1665933025491,
     "user": {
      "displayName": "Kévin Duranty",
      "userId": "15131849859703425204"
     },
     "user_tz": -120
    },
    "id": "1hSe7AqSVoon"
   },
   "outputs": [],
   "source": [
    "# body\n"
   ]
  },
  {
   "cell_type": "code",
   "execution_count": 3,
   "metadata": {
    "executionInfo": {
     "elapsed": 22,
     "status": "ok",
     "timestamp": 1665933025491,
     "user": {
      "displayName": "Kévin Duranty",
      "userId": "15131849859703425204"
     },
     "user_tz": -120
    },
    "id": "CVBpuSvlVoon"
   },
   "outputs": [],
   "source": [
    "# title\n"
   ]
  },
  {
   "cell_type": "code",
   "execution_count": 4,
   "metadata": {
    "executionInfo": {
     "elapsed": 22,
     "status": "ok",
     "timestamp": 1665933025491,
     "user": {
      "displayName": "Kévin Duranty",
      "userId": "15131849859703425204"
     },
     "user_tz": -120
    },
    "id": "MYn2wWvzVooo"
   },
   "outputs": [],
   "source": [
    "# h1\n"
   ]
  },
  {
   "cell_type": "code",
   "execution_count": 5,
   "metadata": {
    "executionInfo": {
     "elapsed": 21,
     "status": "ok",
     "timestamp": 1665933025491,
     "user": {
      "displayName": "Kévin Duranty",
      "userId": "15131849859703425204"
     },
     "user_tz": -120
    },
    "id": "_rhtQCxJVooo"
   },
   "outputs": [],
   "source": [
    "#p\n"
   ]
  },
  {
   "cell_type": "code",
   "execution_count": 6,
   "metadata": {
    "executionInfo": {
     "elapsed": 22,
     "status": "ok",
     "timestamp": 1665933025492,
     "user": {
      "displayName": "Kévin Duranty",
      "userId": "15131849859703425204"
     },
     "user_tz": -120
    },
    "id": "Nuy7DxBmVooo"
   },
   "outputs": [],
   "source": [
    "# a\n"
   ]
  },
  {
   "cell_type": "markdown",
   "metadata": {
    "id": "riP1tCc0Vooo"
   },
   "source": [
    "## 2.6 Affichez les attributs du premier lien.\n",
    "Récupérer dans une liste l'ensemble des attributs `href`."
   ]
  },
  {
   "cell_type": "code",
   "execution_count": 6,
   "metadata": {
    "executionInfo": {
     "elapsed": 22,
     "status": "ok",
     "timestamp": 1665933025492,
     "user": {
      "displayName": "Kévin Duranty",
      "userId": "15131849859703425204"
     },
     "user_tz": -120
    },
    "id": "RS4j_95WVoop"
   },
   "outputs": [],
   "source": []
  },
  {
   "cell_type": "code",
   "execution_count": 6,
   "metadata": {
    "executionInfo": {
     "elapsed": 21,
     "status": "ok",
     "timestamp": 1665933025492,
     "user": {
      "displayName": "Kévin Duranty",
      "userId": "15131849859703425204"
     },
     "user_tz": -120
    },
    "id": "Z1-zKS67Voop"
   },
   "outputs": [],
   "source": []
  },
  {
   "cell_type": "markdown",
   "metadata": {
    "id": "LefyMKXbVoop"
   },
   "source": [
    "# Partie 2 - Collecte de données du [Blog du Modérateur](https://www.blogdumoderateur.com/)\n",
    "\n",
    "<img src='https://f.hellowork.com/blogdumoderateur/2017/05/blogdumoderateur-og.png'>\n",
    "\n",
    "Ce deuxième exercice a pour but de collecter les articles du site le Blog Du Modérateur. Pour cela nous utiliserons la bibliothèque BeautifulSoup afin de scraper les éléments suivants présents sur la page d'accueil : \n",
    "\n",
    "- le nom de l’article,\n",
    "- le lien de l’image,\n",
    "- le lien de l’article\n",
    "- la catégorie de l’article\n",
    "- la date de publication de l’article\n",
    "\n",
    "Nous créerons un script qui automatisera la collecte des données en prenant en compte les exceptions et qui retournera un fichier json contenant l'ensemble de nos données."
   ]
  },
  {
   "cell_type": "markdown",
   "metadata": {
    "id": "xHSiVIRRVoop"
   },
   "source": [
    "## 2.7 Faites une requête au site du Blog du Modérateur puis instanciez une variable `soup`.\n",
    "\n",
    "Utilisez l'adresse url suivante : `https://www.blogdumoderateur.com/`"
   ]
  },
  {
   "cell_type": "code",
   "execution_count": 6,
   "metadata": {
    "executionInfo": {
     "elapsed": 21,
     "status": "ok",
     "timestamp": 1665933025492,
     "user": {
      "displayName": "Kévin Duranty",
      "userId": "15131849859703425204"
     },
     "user_tz": -120
    },
    "id": "nrHP0MX9Voop"
   },
   "outputs": [],
   "source": []
  },
  {
   "cell_type": "markdown",
   "metadata": {
    "id": "smnCvJ2MVooq"
   },
   "source": [
    "## 2.8 Collectez dans une variable `article` les articles présents sur la page d'acceuil."
   ]
  },
  {
   "cell_type": "code",
   "execution_count": 6,
   "metadata": {
    "executionInfo": {
     "elapsed": 21,
     "status": "ok",
     "timestamp": 1665933025492,
     "user": {
      "displayName": "Kévin Duranty",
      "userId": "15131849859703425204"
     },
     "user_tz": -120
    },
    "id": "2YFH2_VXVooq"
   },
   "outputs": [],
   "source": []
  },
  {
   "cell_type": "markdown",
   "metadata": {
    "id": "qwrxg__CVooq"
   },
   "source": [
    "## 2.9 Récupérez le `nom` du premier article."
   ]
  },
  {
   "cell_type": "code",
   "execution_count": 6,
   "metadata": {
    "executionInfo": {
     "elapsed": 22,
     "status": "ok",
     "timestamp": 1665933025493,
     "user": {
      "displayName": "Kévin Duranty",
      "userId": "15131849859703425204"
     },
     "user_tz": -120
    },
    "id": "pokUJvlaVooq"
   },
   "outputs": [],
   "source": []
  },
  {
   "cell_type": "code",
   "execution_count": 6,
   "metadata": {
    "executionInfo": {
     "elapsed": 22,
     "status": "ok",
     "timestamp": 1665933025493,
     "user": {
      "displayName": "Kévin Duranty",
      "userId": "15131849859703425204"
     },
     "user_tz": -120
    },
    "id": "IZbpC6lVVooq"
   },
   "outputs": [],
   "source": []
  },
  {
   "cell_type": "code",
   "execution_count": 6,
   "metadata": {
    "executionInfo": {
     "elapsed": 21,
     "status": "ok",
     "timestamp": 1665933025493,
     "user": {
      "displayName": "Kévin Duranty",
      "userId": "15131849859703425204"
     },
     "user_tz": -120
    },
    "id": "vFzJ_QrYVooq"
   },
   "outputs": [],
   "source": []
  },
  {
   "cell_type": "markdown",
   "metadata": {
    "id": "Vdb9A_N6Vooq"
   },
   "source": [
    "##  2.10 Récupérez le `lien de l'image` du premier article."
   ]
  },
  {
   "cell_type": "code",
   "execution_count": 6,
   "metadata": {
    "executionInfo": {
     "elapsed": 21,
     "status": "ok",
     "timestamp": 1665933025493,
     "user": {
      "displayName": "Kévin Duranty",
      "userId": "15131849859703425204"
     },
     "user_tz": -120
    },
    "id": "JCm-88X-Vooq"
   },
   "outputs": [],
   "source": []
  },
  {
   "cell_type": "code",
   "execution_count": 6,
   "metadata": {
    "executionInfo": {
     "elapsed": 21,
     "status": "ok",
     "timestamp": 1665933025493,
     "user": {
      "displayName": "Kévin Duranty",
      "userId": "15131849859703425204"
     },
     "user_tz": -120
    },
    "id": "VopNCRQpVooq"
   },
   "outputs": [],
   "source": []
  },
  {
   "cell_type": "markdown",
   "metadata": {
    "id": "FeHvWfotVooq"
   },
   "source": [
    "## 2.11 Récupérez le `lien` du premier article."
   ]
  },
  {
   "cell_type": "code",
   "execution_count": 6,
   "metadata": {
    "executionInfo": {
     "elapsed": 20,
     "status": "ok",
     "timestamp": 1665933025493,
     "user": {
      "displayName": "Kévin Duranty",
      "userId": "15131849859703425204"
     },
     "user_tz": -120
    },
    "id": "zUGNPiHtVoor"
   },
   "outputs": [],
   "source": []
  },
  {
   "cell_type": "code",
   "execution_count": 6,
   "metadata": {
    "executionInfo": {
     "elapsed": 21,
     "status": "ok",
     "timestamp": 1665933025494,
     "user": {
      "displayName": "Kévin Duranty",
      "userId": "15131849859703425204"
     },
     "user_tz": -120
    },
    "id": "7VkICWz7Voor"
   },
   "outputs": [],
   "source": []
  },
  {
   "cell_type": "markdown",
   "metadata": {
    "id": "pzKPGnlUVoor"
   },
   "source": [
    "## 2.12 Récupérez la `catégorie` du premier article."
   ]
  },
  {
   "cell_type": "code",
   "execution_count": 6,
   "metadata": {
    "executionInfo": {
     "elapsed": 21,
     "status": "ok",
     "timestamp": 1665933025494,
     "user": {
      "displayName": "Kévin Duranty",
      "userId": "15131849859703425204"
     },
     "user_tz": -120
    },
    "id": "2DOBOvIWVoor"
   },
   "outputs": [],
   "source": []
  },
  {
   "cell_type": "markdown",
   "metadata": {
    "id": "NFFmWxztVoor"
   },
   "source": [
    "## 2.13 Récupérez la `date de publication` du premier article."
   ]
  },
  {
   "cell_type": "code",
   "execution_count": 6,
   "metadata": {
    "executionInfo": {
     "elapsed": 21,
     "status": "ok",
     "timestamp": 1665933025494,
     "user": {
      "displayName": "Kévin Duranty",
      "userId": "15131849859703425204"
     },
     "user_tz": -120
    },
    "id": "LIYUA14pVoor"
   },
   "outputs": [],
   "source": []
  },
  {
   "cell_type": "code",
   "execution_count": 6,
   "metadata": {
    "executionInfo": {
     "elapsed": 21,
     "status": "ok",
     "timestamp": 1665933025494,
     "user": {
      "displayName": "Kévin Duranty",
      "userId": "15131849859703425204"
     },
     "user_tz": -120
    },
    "id": "xRLAs3saVoor"
   },
   "outputs": [],
   "source": []
  },
  {
   "cell_type": "code",
   "execution_count": 6,
   "metadata": {
    "executionInfo": {
     "elapsed": 20,
     "status": "ok",
     "timestamp": 1665933025494,
     "user": {
      "displayName": "Kévin Duranty",
      "userId": "15131849859703425204"
     },
     "user_tz": -120
    },
    "id": "3DAgoh6dVoor"
   },
   "outputs": [],
   "source": []
  },
  {
   "cell_type": "code",
   "execution_count": 6,
   "metadata": {
    "executionInfo": {
     "elapsed": 20,
     "status": "ok",
     "timestamp": 1665933025494,
     "user": {
      "displayName": "Kévin Duranty",
      "userId": "15131849859703425204"
     },
     "user_tz": -120
    },
    "id": "2JW6atTUVoor"
   },
   "outputs": [],
   "source": []
  },
  {
   "cell_type": "markdown",
   "metadata": {
    "id": "SsOqtQLQVoor"
   },
   "source": [
    "# Créez une fonction `scraping_bdm` qui collecte l'ensemble des données des articles présent sur la page d'acceuil et qui renvoi un fichier au format `json`."
   ]
  },
  {
   "cell_type": "code",
   "execution_count": 6,
   "metadata": {
    "executionInfo": {
     "elapsed": 20,
     "status": "ok",
     "timestamp": 1665933025494,
     "user": {
      "displayName": "Kévin Duranty",
      "userId": "15131849859703425204"
     },
     "user_tz": -120
    },
    "id": "HeUUiUXuVoor"
   },
   "outputs": [],
   "source": []
  },
  {
   "cell_type": "code",
   "execution_count": 6,
   "metadata": {
    "executionInfo": {
     "elapsed": 21,
     "status": "ok",
     "timestamp": 1665933025495,
     "user": {
      "displayName": "Kévin Duranty",
      "userId": "15131849859703425204"
     },
     "user_tz": -120
    },
    "id": "BPaZZyrRVoos"
   },
   "outputs": [],
   "source": []
  },
  {
   "cell_type": "code",
   "execution_count": 6,
   "metadata": {
    "executionInfo": {
     "elapsed": 21,
     "status": "ok",
     "timestamp": 1665933025495,
     "user": {
      "displayName": "Kévin Duranty",
      "userId": "15131849859703425204"
     },
     "user_tz": -120
    },
    "id": "-EJnTUyqVoos"
   },
   "outputs": [],
   "source": []
  },
  {
   "cell_type": "code",
   "execution_count": 6,
   "metadata": {
    "executionInfo": {
     "elapsed": 21,
     "status": "ok",
     "timestamp": 1665933025495,
     "user": {
      "displayName": "Kévin Duranty",
      "userId": "15131849859703425204"
     },
     "user_tz": -120
    },
    "id": "aJLx0ZgkVoos"
   },
   "outputs": [],
   "source": []
  },
  {
   "cell_type": "markdown",
   "metadata": {
    "id": "ZJGGk08rVoos"
   },
   "source": [
    "# Partie 3 - Collecte de données de Doctolib - Bonus\n",
    "\n",
    "\n",
    "<img src='https://upload.wikimedia.org/wikipedia/fr/thumb/7/7f/Logo-doctolib.svg/640px-Logo-doctolib.svg.png'>\n",
    "\n",
    "\n",
    "L'objectif est de collecter les données des dentistes référencés sur le sites de Doctolib exerçant à Paris à partir de l'adresse suivante : `https://www.doctolib.fr/dentiste/paris`.\n",
    "\n",
    "Les informations que nous souhaitons collecter sont les suivantes :\n",
    "- le nom du praticien\n",
    "- la profession du praticien\n",
    "- l'adresse du praticien\n",
    "- la ville du praticien\n",
    "- l'image de la fiche Doctolib du praticien"
   ]
  },
  {
   "cell_type": "code",
   "execution_count": 6,
   "metadata": {
    "executionInfo": {
     "elapsed": 21,
     "status": "ok",
     "timestamp": 1665933025495,
     "user": {
      "displayName": "Kévin Duranty",
      "userId": "15131849859703425204"
     },
     "user_tz": -120
    },
    "id": "V6Txf7INVoos"
   },
   "outputs": [],
   "source": []
  },
  {
   "cell_type": "code",
   "execution_count": 6,
   "metadata": {
    "executionInfo": {
     "elapsed": 20,
     "status": "ok",
     "timestamp": 1665933025495,
     "user": {
      "displayName": "Kévin Duranty",
      "userId": "15131849859703425204"
     },
     "user_tz": -120
    },
    "id": "SKm3nV1-Voos",
    "scrolled": false
   },
   "outputs": [],
   "source": []
  },
  {
   "cell_type": "code",
   "execution_count": 6,
   "metadata": {
    "executionInfo": {
     "elapsed": 20,
     "status": "ok",
     "timestamp": 1665933025495,
     "user": {
      "displayName": "Kévin Duranty",
      "userId": "15131849859703425204"
     },
     "user_tz": -120
    },
    "id": "3WxpAcIdVoos"
   },
   "outputs": [],
   "source": []
  },
  {
   "cell_type": "code",
   "execution_count": 6,
   "metadata": {
    "executionInfo": {
     "elapsed": 20,
     "status": "ok",
     "timestamp": 1665933025495,
     "user": {
      "displayName": "Kévin Duranty",
      "userId": "15131849859703425204"
     },
     "user_tz": -120
    },
    "id": "G_KPKSBwVoos"
   },
   "outputs": [],
   "source": []
  },
  {
   "cell_type": "code",
   "execution_count": 6,
   "metadata": {
    "executionInfo": {
     "elapsed": 21,
     "status": "ok",
     "timestamp": 1665933025496,
     "user": {
      "displayName": "Kévin Duranty",
      "userId": "15131849859703425204"
     },
     "user_tz": -120
    },
    "id": "E8AGhDPbVoos"
   },
   "outputs": [],
   "source": []
  },
  {
   "cell_type": "code",
   "execution_count": 6,
   "metadata": {
    "executionInfo": {
     "elapsed": 21,
     "status": "ok",
     "timestamp": 1665933025496,
     "user": {
      "displayName": "Kévin Duranty",
      "userId": "15131849859703425204"
     },
     "user_tz": -120
    },
    "id": "ZFKx5Y_1Voos"
   },
   "outputs": [],
   "source": []
  }
 ],
 "metadata": {
  "colab": {
   "collapsed_sections": [],
   "provenance": []
  },
  "kernelspec": {
   "display_name": "Python 3 (ipykernel)",
   "language": "python",
   "name": "python3"
  },
  "language_info": {
   "codemirror_mode": {
    "name": "ipython",
    "version": 3
   },
   "file_extension": ".py",
   "mimetype": "text/x-python",
   "name": "python",
   "nbconvert_exporter": "python",
   "pygments_lexer": "ipython3",
   "version": "3.7.6"
  }
 },
 "nbformat": 4,
 "nbformat_minor": 1
}
